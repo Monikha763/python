{
  "nbformat": 4,
  "nbformat_minor": 0,
  "metadata": {
    "colab": {
      "provenance": [],
      "authorship_tag": "ABX9TyO7bif56Gz9qK1ISltuyf8I",
      "include_colab_link": true
    },
    "kernelspec": {
      "name": "python3",
      "display_name": "Python 3"
    },
    "language_info": {
      "name": "python"
    }
  },
  "cells": [
    {
      "cell_type": "markdown",
      "metadata": {
        "id": "view-in-github",
        "colab_type": "text"
      },
      "source": [
        "<a href=\"https://colab.research.google.com/github/Monikha763/python/blob/main/startups_csv.ipynb\" target=\"_parent\"><img src=\"https://colab.research.google.com/assets/colab-badge.svg\" alt=\"Open In Colab\"/></a>"
      ]
    },
    {
      "cell_type": "code",
      "source": [
        "import pandas as pd\n",
        "df=pd.read_csv('50_Startups.csv')\n",
        "print(df.head(10))"
      ],
      "metadata": {
        "colab": {
          "base_uri": "https://localhost:8080/"
        },
        "id": "VPva6ezkLUJE",
        "outputId": "340891b1-f9d0-450c-ba13-09fbdc1d6565"
      },
      "execution_count": null,
      "outputs": [
        {
          "output_type": "stream",
          "name": "stdout",
          "text": [
            "   R&D Spend  Administration  Marketing Spend       State     Profit\n",
            "0  165349.20       136897.80        471784.10    New York  192261.83\n",
            "1  162597.70       151377.59        443898.53  California  191792.06\n",
            "2  153441.51       101145.55        407934.54     Florida  191050.39\n",
            "3  144372.41       118671.85        383199.62    New York  182901.99\n",
            "4  142107.34        91391.77        366168.42     Florida  166187.94\n",
            "5  131876.90        99814.71        362861.36    New York  156991.12\n",
            "6  134615.46       147198.87        127716.82  California  156122.51\n",
            "7  130298.13       145530.06        323876.68     Florida  155752.60\n",
            "8  120542.52       148718.95        311613.29    New York  152211.77\n",
            "9  123334.88       108679.17        304981.62  California  149759.96\n"
          ]
        }
      ]
    },
    {
      "cell_type": "code",
      "source": [
        "print(df.shape)"
      ],
      "metadata": {
        "colab": {
          "base_uri": "https://localhost:8080/"
        },
        "id": "G7mh060GNkhc",
        "outputId": "9dd4e8ca-a332-4f4a-b080-d6df4725b37d"
      },
      "execution_count": null,
      "outputs": [
        {
          "output_type": "stream",
          "name": "stdout",
          "text": [
            "(50, 5)\n"
          ]
        }
      ]
    },
    {
      "cell_type": "code",
      "source": [
        "print(df.columns)"
      ],
      "metadata": {
        "colab": {
          "base_uri": "https://localhost:8080/"
        },
        "id": "OVxvC1dvS9H_",
        "outputId": "ba0d7359-9ccb-47d0-c325-7df8ac57a20a"
      },
      "execution_count": null,
      "outputs": [
        {
          "output_type": "stream",
          "name": "stdout",
          "text": [
            "Index(['R&D Spend', 'Administration', 'Marketing Spend', 'State', 'Profit'], dtype='object')\n"
          ]
        }
      ]
    },
    {
      "cell_type": "code",
      "source": [
        "print(df.describe())"
      ],
      "metadata": {
        "colab": {
          "base_uri": "https://localhost:8080/"
        },
        "id": "-dVfrplRTFIE",
        "outputId": "187bf37a-6b7b-444d-e432-375c6f46310a"
      },
      "execution_count": null,
      "outputs": [
        {
          "output_type": "stream",
          "name": "stdout",
          "text": [
            "           R&D Spend  Administration  Marketing Spend         Profit\n",
            "count      50.000000       50.000000        50.000000      50.000000\n",
            "mean    73721.615600   121344.639600    211025.097800  112012.639200\n",
            "std     45902.256482    28017.802755    122290.310726   40306.180338\n",
            "min         0.000000    51283.140000         0.000000   14681.400000\n",
            "25%     39936.370000   103730.875000    129300.132500   90138.902500\n",
            "50%     73051.080000   122699.795000    212716.240000  107978.190000\n",
            "75%    101602.800000   144842.180000    299469.085000  139765.977500\n",
            "max    165349.200000   182645.560000    471784.100000  192261.830000\n"
          ]
        }
      ]
    },
    {
      "cell_type": "code",
      "source": [
        "print(df.info())"
      ],
      "metadata": {
        "colab": {
          "base_uri": "https://localhost:8080/"
        },
        "id": "J12GkqnMTMcq",
        "outputId": "499298f3-e476-45ec-ff97-b21e83d628dd"
      },
      "execution_count": null,
      "outputs": [
        {
          "output_type": "stream",
          "name": "stdout",
          "text": [
            "<class 'pandas.core.frame.DataFrame'>\n",
            "RangeIndex: 50 entries, 0 to 49\n",
            "Data columns (total 5 columns):\n",
            " #   Column           Non-Null Count  Dtype  \n",
            "---  ------           --------------  -----  \n",
            " 0   R&D Spend        50 non-null     float64\n",
            " 1   Administration   50 non-null     float64\n",
            " 2   Marketing Spend  50 non-null     float64\n",
            " 3   State            50 non-null     object \n",
            " 4   Profit           50 non-null     float64\n",
            "dtypes: float64(4), object(1)\n",
            "memory usage: 2.1+ KB\n",
            "None\n"
          ]
        }
      ]
    },
    {
      "cell_type": "code",
      "source": [
        "df.iloc[5]"
      ],
      "metadata": {
        "colab": {
          "base_uri": "https://localhost:8080/",
          "height": 241
        },
        "id": "CPQ55kUQTf7A",
        "outputId": "5adb7f93-1c1a-41a9-e6c7-df9b345af137"
      },
      "execution_count": null,
      "outputs": [
        {
          "output_type": "execute_result",
          "data": {
            "text/plain": [
              "R&D Spend           131876.9\n",
              "Administration      99814.71\n",
              "Marketing Spend    362861.36\n",
              "State               New York\n",
              "Profit             156991.12\n",
              "Name: 5, dtype: object"
            ],
            "text/html": [
              "<div>\n",
              "<style scoped>\n",
              "    .dataframe tbody tr th:only-of-type {\n",
              "        vertical-align: middle;\n",
              "    }\n",
              "\n",
              "    .dataframe tbody tr th {\n",
              "        vertical-align: top;\n",
              "    }\n",
              "\n",
              "    .dataframe thead th {\n",
              "        text-align: right;\n",
              "    }\n",
              "</style>\n",
              "<table border=\"1\" class=\"dataframe\">\n",
              "  <thead>\n",
              "    <tr style=\"text-align: right;\">\n",
              "      <th></th>\n",
              "      <th>5</th>\n",
              "    </tr>\n",
              "  </thead>\n",
              "  <tbody>\n",
              "    <tr>\n",
              "      <th>R&amp;D Spend</th>\n",
              "      <td>131876.9</td>\n",
              "    </tr>\n",
              "    <tr>\n",
              "      <th>Administration</th>\n",
              "      <td>99814.71</td>\n",
              "    </tr>\n",
              "    <tr>\n",
              "      <th>Marketing Spend</th>\n",
              "      <td>362861.36</td>\n",
              "    </tr>\n",
              "    <tr>\n",
              "      <th>State</th>\n",
              "      <td>New York</td>\n",
              "    </tr>\n",
              "    <tr>\n",
              "      <th>Profit</th>\n",
              "      <td>156991.12</td>\n",
              "    </tr>\n",
              "  </tbody>\n",
              "</table>\n",
              "</div><br><label><b>dtype:</b> object</label>"
            ]
          },
          "metadata": {},
          "execution_count": 20
        }
      ]
    },
    {
      "cell_type": "code",
      "source": [
        "print(df[[\"R&D Spend\",\"Profit\"]])"
      ],
      "metadata": {
        "colab": {
          "base_uri": "https://localhost:8080/"
        },
        "id": "FjYyXvNQW_nl",
        "outputId": "ef6d46f8-61de-44fc-d472-ca5704cdb477"
      },
      "execution_count": null,
      "outputs": [
        {
          "output_type": "stream",
          "name": "stdout",
          "text": [
            "    R&D Spend     Profit\n",
            "0   165349.20  192261.83\n",
            "1   162597.70  191792.06\n",
            "2   153441.51  191050.39\n",
            "3   144372.41  182901.99\n",
            "4   142107.34  166187.94\n",
            "5   131876.90  156991.12\n",
            "6   134615.46  156122.51\n",
            "7   130298.13  155752.60\n",
            "8   120542.52  152211.77\n",
            "9   123334.88  149759.96\n",
            "10  101913.08  146121.95\n",
            "11  100671.96  144259.40\n",
            "12   93863.75  141585.52\n",
            "13   91992.39  134307.35\n",
            "14  119943.24  132602.65\n",
            "15  114523.61  129917.04\n",
            "16   78013.11  126992.93\n",
            "17   94657.16  125370.37\n",
            "18   91749.16  124266.90\n",
            "19   86419.70  122776.86\n",
            "20   76253.86  118474.03\n",
            "21   78389.47  111313.02\n",
            "22   73994.56  110352.25\n",
            "23   67532.53  108733.99\n",
            "24   77044.01  108552.04\n",
            "25   64664.71  107404.34\n",
            "26   75328.87  105733.54\n",
            "27   72107.60  105008.31\n",
            "28   66051.52  103282.38\n",
            "29   65605.48  101004.64\n",
            "30   61994.48   99937.59\n",
            "31   61136.38   97483.56\n",
            "32   63408.86   97427.84\n",
            "33   55493.95   96778.92\n",
            "34   46426.07   96712.80\n",
            "35   46014.02   96479.51\n",
            "36   28663.76   90708.19\n",
            "37   44069.95   89949.14\n",
            "38   20229.59   81229.06\n",
            "39   38558.51   81005.76\n",
            "40   28754.33   78239.91\n",
            "41   27892.92   77798.83\n",
            "42   23640.93   71498.49\n",
            "43   15505.73   69758.98\n",
            "44   22177.74   65200.33\n",
            "45    1000.23   64926.08\n",
            "46    1315.46   49490.75\n",
            "47       0.00   42559.73\n",
            "48     542.05   35673.41\n",
            "49       0.00   14681.40\n"
          ]
        }
      ]
    },
    {
      "cell_type": "code",
      "source": [
        "print(df.tail(3))"
      ],
      "metadata": {
        "colab": {
          "base_uri": "https://localhost:8080/"
        },
        "id": "Sr1hKvp9UfqN",
        "outputId": "701ea2af-494a-471e-88dc-fa286d6ed2bb"
      },
      "execution_count": null,
      "outputs": [
        {
          "output_type": "stream",
          "name": "stdout",
          "text": [
            "    R&D Spend  Administration  Marketing Spend       State    Profit\n",
            "47       0.00       135426.92             0.00  California  42559.73\n",
            "48     542.05        51743.15             0.00    New York  35673.41\n",
            "49       0.00       116983.80         45173.06  California  14681.40\n"
          ]
        }
      ]
    },
    {
      "cell_type": "code",
      "source": [
        "import pandas as pd\n",
        "df=pd.read_csv('50_Startups.csv')"
      ],
      "metadata": {
        "id": "56lpR8gi1fC8"
      },
      "execution_count": null,
      "outputs": []
    },
    {
      "cell_type": "code",
      "source": [
        "print(df.loc[9,\"Profit\"])"
      ],
      "metadata": {
        "colab": {
          "base_uri": "https://localhost:8080/"
        },
        "id": "3D3jV3EL2KAs",
        "outputId": "e6f23fda-babe-4ed8-9dbc-d7bf775fabd6"
      },
      "execution_count": null,
      "outputs": [
        {
          "output_type": "stream",
          "name": "stdout",
          "text": [
            "149759.96\n"
          ]
        }
      ]
    },
    {
      "cell_type": "code",
      "source": [
        "print(df.isnull().sum())"
      ],
      "metadata": {
        "colab": {
          "base_uri": "https://localhost:8080/"
        },
        "id": "kWOkxIdH6PnA",
        "outputId": "84090fa1-b5ed-4eb5-daf5-f1d657e16a26"
      },
      "execution_count": null,
      "outputs": [
        {
          "output_type": "stream",
          "name": "stdout",
          "text": [
            "R&D Spend          0\n",
            "Administration     0\n",
            "Marketing Spend    0\n",
            "State              0\n",
            "Profit             0\n",
            "dtype: int64\n"
          ]
        }
      ]
    },
    {
      "cell_type": "code",
      "source": [
        "df.rename(columns={'R&D Spend': 'RD_Spend'}, inplace=True)"
      ],
      "metadata": {
        "id": "IPAtWu3j6-a_"
      },
      "execution_count": null,
      "outputs": []
    },
    {
      "cell_type": "code",
      "source": [
        "df['Total Spend'] = df['RD_Spend'] + df['Administration'] + df['Marketing Spend']\n",
        "print(df['Total Spend'])"
      ],
      "metadata": {
        "colab": {
          "base_uri": "https://localhost:8080/"
        },
        "id": "wQ3s9fdH7FuY",
        "outputId": "911e5dd0-ed6f-4f6d-aab2-97c0f49d0bff"
      },
      "execution_count": null,
      "outputs": [
        {
          "output_type": "stream",
          "name": "stdout",
          "text": [
            "0     774031.10\n",
            "1     757873.82\n",
            "2     662521.60\n",
            "3     646243.88\n",
            "4     599667.53\n",
            "5     594552.97\n",
            "6     409531.15\n",
            "7     599704.87\n",
            "8     580874.76\n",
            "9     536995.67\n",
            "10    441668.14\n",
            "11    442207.12\n",
            "12    471023.57\n",
            "13    480152.39\n",
            "14    533003.58\n",
            "15    498916.68\n",
            "16    463956.72\n",
            "17    522309.05\n",
            "18    500844.52\n",
            "19    239933.81\n",
            "20    488785.63\n",
            "21    531900.19\n",
            "22    500096.57\n",
            "23    478052.29\n",
            "24    316900.16\n",
            "25    342180.49\n",
            "26    353514.92\n",
            "27    553155.96\n",
            "28    366845.28\n",
            "29    325775.92\n",
            "30    268767.00\n",
            "31    302056.53\n",
            "32    238713.72\n",
            "33    373186.25\n",
            "34    414917.66\n",
            "35    336579.10\n",
            "36    356846.79\n",
            "37    292382.51\n",
            "38    271442.62\n",
            "39    296539.90\n",
            "40    320096.05\n",
            "41    277074.40\n",
            "42    267831.67\n",
            "43    178422.20\n",
            "44    205318.60\n",
            "45    127057.20\n",
            "46    414246.13\n",
            "47    135426.92\n",
            "48     52285.20\n",
            "49    162156.86\n",
            "Name: Total Spend, dtype: float64\n"
          ]
        }
      ]
    },
    {
      "cell_type": "code",
      "source": [
        "import pandas as pd\n",
        "df=pd.read_csv('50_Startups.csv')"
      ],
      "metadata": {
        "id": "BnKcnAkcyAbY"
      },
      "execution_count": null,
      "outputs": []
    },
    {
      "cell_type": "code",
      "source": [
        "df[\"State\"]=df[\"State\"].replace(\"Florida\",\"FL\")\n",
        "print(df)"
      ],
      "metadata": {
        "colab": {
          "base_uri": "https://localhost:8080/"
        },
        "id": "qAuTmZo5x_Xs",
        "outputId": "d53c66f9-2e39-4624-ea4e-f92d3890f3a6"
      },
      "execution_count": null,
      "outputs": [
        {
          "output_type": "stream",
          "name": "stdout",
          "text": [
            "    R&D Spend  Administration  Marketing Spend       State     Profit\n",
            "0   165349.20       136897.80        471784.10    New York  192261.83\n",
            "1   162597.70       151377.59        443898.53  California  191792.06\n",
            "2   153441.51       101145.55        407934.54          FL  191050.39\n",
            "3   144372.41       118671.85        383199.62    New York  182901.99\n",
            "4   142107.34        91391.77        366168.42          FL  166187.94\n",
            "5   131876.90        99814.71        362861.36    New York  156991.12\n",
            "6   134615.46       147198.87        127716.82  California  156122.51\n",
            "7   130298.13       145530.06        323876.68          FL  155752.60\n",
            "8   120542.52       148718.95        311613.29    New York  152211.77\n",
            "9   123334.88       108679.17        304981.62  California  149759.96\n",
            "10  101913.08       110594.11        229160.95          FL  146121.95\n",
            "11  100671.96        91790.61        249744.55  California  144259.40\n",
            "12   93863.75       127320.38        249839.44          FL  141585.52\n",
            "13   91992.39       135495.07        252664.93  California  134307.35\n",
            "14  119943.24       156547.42        256512.92          FL  132602.65\n",
            "15  114523.61       122616.84        261776.23    New York  129917.04\n",
            "16   78013.11       121597.55        264346.06  California  126992.93\n",
            "17   94657.16       145077.58        282574.31    New York  125370.37\n",
            "18   91749.16       114175.79        294919.57          FL  124266.90\n",
            "19   86419.70       153514.11             0.00    New York  122776.86\n",
            "20   76253.86       113867.30        298664.47  California  118474.03\n",
            "21   78389.47       153773.43        299737.29    New York  111313.02\n",
            "22   73994.56       122782.75        303319.26          FL  110352.25\n",
            "23   67532.53       105751.03        304768.73          FL  108733.99\n",
            "24   77044.01        99281.34        140574.81    New York  108552.04\n",
            "25   64664.71       139553.16        137962.62  California  107404.34\n",
            "26   75328.87       144135.98        134050.07          FL  105733.54\n",
            "27   72107.60       127864.55        353183.81    New York  105008.31\n",
            "28   66051.52       182645.56        118148.20          FL  103282.38\n",
            "29   65605.48       153032.06        107138.38    New York  101004.64\n",
            "30   61994.48       115641.28         91131.24          FL   99937.59\n",
            "31   61136.38       152701.92         88218.23    New York   97483.56\n",
            "32   63408.86       129219.61         46085.25  California   97427.84\n",
            "33   55493.95       103057.49        214634.81          FL   96778.92\n",
            "34   46426.07       157693.92        210797.67  California   96712.80\n",
            "35   46014.02        85047.44        205517.64    New York   96479.51\n",
            "36   28663.76       127056.21        201126.82          FL   90708.19\n",
            "37   44069.95        51283.14        197029.42  California   89949.14\n",
            "38   20229.59        65947.93        185265.10    New York   81229.06\n",
            "39   38558.51        82982.09        174999.30  California   81005.76\n",
            "40   28754.33       118546.05        172795.67  California   78239.91\n",
            "41   27892.92        84710.77        164470.71          FL   77798.83\n",
            "42   23640.93        96189.63        148001.11  California   71498.49\n",
            "43   15505.73       127382.30         35534.17    New York   69758.98\n",
            "44   22177.74       154806.14         28334.72  California   65200.33\n",
            "45    1000.23       124153.04          1903.93    New York   64926.08\n",
            "46    1315.46       115816.21        297114.46          FL   49490.75\n",
            "47       0.00       135426.92             0.00  California   42559.73\n",
            "48     542.05        51743.15             0.00    New York   35673.41\n",
            "49       0.00       116983.80         45173.06  California   14681.40\n"
          ]
        }
      ]
    },
    {
      "cell_type": "code",
      "source": [
        "df = df.drop('Marketing Spend', axis=1)\n",
        "print(df)"
      ],
      "metadata": {
        "colab": {
          "base_uri": "https://localhost:8080/"
        },
        "id": "tzyWwn5-ySZd",
        "outputId": "6b443144-1047-40ba-ae1b-93ec9ae40e1f"
      },
      "execution_count": null,
      "outputs": [
        {
          "output_type": "stream",
          "name": "stdout",
          "text": [
            "    R&D Spend  Administration       State     Profit\n",
            "0   165349.20       136897.80    New York  192261.83\n",
            "1   162597.70       151377.59  California  191792.06\n",
            "2   153441.51       101145.55          FL  191050.39\n",
            "3   144372.41       118671.85    New York  182901.99\n",
            "4   142107.34        91391.77          FL  166187.94\n",
            "5   131876.90        99814.71    New York  156991.12\n",
            "6   134615.46       147198.87  California  156122.51\n",
            "7   130298.13       145530.06          FL  155752.60\n",
            "8   120542.52       148718.95    New York  152211.77\n",
            "9   123334.88       108679.17  California  149759.96\n",
            "10  101913.08       110594.11          FL  146121.95\n",
            "11  100671.96        91790.61  California  144259.40\n",
            "12   93863.75       127320.38          FL  141585.52\n",
            "13   91992.39       135495.07  California  134307.35\n",
            "14  119943.24       156547.42          FL  132602.65\n",
            "15  114523.61       122616.84    New York  129917.04\n",
            "16   78013.11       121597.55  California  126992.93\n",
            "17   94657.16       145077.58    New York  125370.37\n",
            "18   91749.16       114175.79          FL  124266.90\n",
            "19   86419.70       153514.11    New York  122776.86\n",
            "20   76253.86       113867.30  California  118474.03\n",
            "21   78389.47       153773.43    New York  111313.02\n",
            "22   73994.56       122782.75          FL  110352.25\n",
            "23   67532.53       105751.03          FL  108733.99\n",
            "24   77044.01        99281.34    New York  108552.04\n",
            "25   64664.71       139553.16  California  107404.34\n",
            "26   75328.87       144135.98          FL  105733.54\n",
            "27   72107.60       127864.55    New York  105008.31\n",
            "28   66051.52       182645.56          FL  103282.38\n",
            "29   65605.48       153032.06    New York  101004.64\n",
            "30   61994.48       115641.28          FL   99937.59\n",
            "31   61136.38       152701.92    New York   97483.56\n",
            "32   63408.86       129219.61  California   97427.84\n",
            "33   55493.95       103057.49          FL   96778.92\n",
            "34   46426.07       157693.92  California   96712.80\n",
            "35   46014.02        85047.44    New York   96479.51\n",
            "36   28663.76       127056.21          FL   90708.19\n",
            "37   44069.95        51283.14  California   89949.14\n",
            "38   20229.59        65947.93    New York   81229.06\n",
            "39   38558.51        82982.09  California   81005.76\n",
            "40   28754.33       118546.05  California   78239.91\n",
            "41   27892.92        84710.77          FL   77798.83\n",
            "42   23640.93        96189.63  California   71498.49\n",
            "43   15505.73       127382.30    New York   69758.98\n",
            "44   22177.74       154806.14  California   65200.33\n",
            "45    1000.23       124153.04    New York   64926.08\n",
            "46    1315.46       115816.21          FL   49490.75\n",
            "47       0.00       135426.92  California   42559.73\n",
            "48     542.05        51743.15    New York   35673.41\n",
            "49       0.00       116983.80  California   14681.40\n"
          ]
        }
      ]
    },
    {
      "cell_type": "code",
      "source": [
        "df = df[df[\"State\"] == \"California\"]\n",
        "print(df)"
      ],
      "metadata": {
        "colab": {
          "base_uri": "https://localhost:8080/"
        },
        "id": "hFyHWtFNzsSq",
        "outputId": "5456dd3d-4256-43bc-a1d1-6627d08d075a"
      },
      "execution_count": null,
      "outputs": [
        {
          "output_type": "stream",
          "name": "stdout",
          "text": [
            "    R&D Spend  Administration       State     Profit\n",
            "1   162597.70       151377.59  California  191792.06\n",
            "6   134615.46       147198.87  California  156122.51\n",
            "9   123334.88       108679.17  California  149759.96\n",
            "11  100671.96        91790.61  California  144259.40\n",
            "13   91992.39       135495.07  California  134307.35\n",
            "16   78013.11       121597.55  California  126992.93\n",
            "20   76253.86       113867.30  California  118474.03\n",
            "25   64664.71       139553.16  California  107404.34\n",
            "32   63408.86       129219.61  California   97427.84\n",
            "34   46426.07       157693.92  California   96712.80\n",
            "37   44069.95        51283.14  California   89949.14\n",
            "39   38558.51        82982.09  California   81005.76\n",
            "40   28754.33       118546.05  California   78239.91\n",
            "42   23640.93        96189.63  California   71498.49\n",
            "44   22177.74       154806.14  California   65200.33\n",
            "47       0.00       135426.92  California   42559.73\n",
            "49       0.00       116983.80  California   14681.40\n"
          ]
        }
      ]
    },
    {
      "cell_type": "code",
      "source": [
        "print(df[df[\"Profit\"] > 150000])"
      ],
      "metadata": {
        "colab": {
          "base_uri": "https://localhost:8080/"
        },
        "id": "Z_yNc-Kx0L9k",
        "outputId": "2b9f7a9c-6890-466b-c9f9-e51431dc2a98"
      },
      "execution_count": null,
      "outputs": [
        {
          "output_type": "stream",
          "name": "stdout",
          "text": [
            "   R&D Spend  Administration       State     Profit\n",
            "1  162597.70       151377.59  California  191792.06\n",
            "6  134615.46       147198.87  California  156122.51\n"
          ]
        }
      ]
    },
    {
      "cell_type": "code",
      "source": [
        "print(df[(df['R&D Spend']>100000) & (df[\"Profit\"] >120000)])"
      ],
      "metadata": {
        "colab": {
          "base_uri": "https://localhost:8080/"
        },
        "id": "CICdrs8s1wGJ",
        "outputId": "d42c02ca-ebbc-4a18-8cf8-ec65c0c6d4cd"
      },
      "execution_count": null,
      "outputs": [
        {
          "output_type": "stream",
          "name": "stdout",
          "text": [
            "    R&D Spend  Administration       State     Profit\n",
            "1   162597.70       151377.59  California  191792.06\n",
            "6   134615.46       147198.87  California  156122.51\n",
            "9   123334.88       108679.17  California  149759.96\n",
            "11  100671.96        91790.61  California  144259.40\n"
          ]
        }
      ]
    },
    {
      "cell_type": "code",
      "source": [
        "filtered =df[(df[\"State\"]==\"New York\")&(df[\"Administration\"]<120000)]\n",
        "print(filtered)"
      ],
      "metadata": {
        "colab": {
          "base_uri": "https://localhost:8080/"
        },
        "id": "G7_ldwzG2OGC",
        "outputId": "bd7a680d-c2e8-417b-a008-d10c48c26117"
      },
      "execution_count": null,
      "outputs": [
        {
          "output_type": "stream",
          "name": "stdout",
          "text": [
            "Empty DataFrame\n",
            "Columns: [R&D Spend, Administration, State, Profit]\n",
            "Index: []\n"
          ]
        }
      ]
    },
    {
      "cell_type": "code",
      "source": [
        "df['Total Spend'] = df['R&D Spend'] + df['Administration']\n",
        "print(df['Total Spend'])"
      ],
      "metadata": {
        "colab": {
          "base_uri": "https://localhost:8080/"
        },
        "id": "9j6IvzdM6Hl0",
        "outputId": "5636a86f-ba30-4b48-9830-a0fe1b3899f0"
      },
      "execution_count": null,
      "outputs": [
        {
          "output_type": "stream",
          "name": "stdout",
          "text": [
            "1     313975.29\n",
            "6     281814.33\n",
            "9     232014.05\n",
            "11    192462.57\n",
            "13    227487.46\n",
            "16    199610.66\n",
            "20    190121.16\n",
            "25    204217.87\n",
            "32    192628.47\n",
            "34    204119.99\n",
            "37     95353.09\n",
            "39    121540.60\n",
            "40    147300.38\n",
            "42    119830.56\n",
            "44    176983.88\n",
            "47    135426.92\n",
            "49    116983.80\n",
            "Name: Total Spend, dtype: float64\n"
          ]
        }
      ]
    },
    {
      "cell_type": "code",
      "source": [
        "import pandas as pd\n",
        "df=pd.read_csv('50_Startups.csv')\n",
        "\n",
        "df['Total Spend'] = df['R&D Spend'] + df['Administration'] + df['Marketing Spend']\n",
        "\n",
        "filtered_df = df[df[\"Total Spend\"] > 400000]\n",
        "print(filtered_df)"
      ],
      "metadata": {
        "colab": {
          "base_uri": "https://localhost:8080/"
        },
        "id": "kbBDli_U6Pax",
        "outputId": "d13bfc3c-b963-450e-d3d0-e18f01e64a42"
      },
      "execution_count": null,
      "outputs": [
        {
          "output_type": "stream",
          "name": "stdout",
          "text": [
            "    R&D Spend  Administration  Marketing Spend       State     Profit  \\\n",
            "0   165349.20       136897.80        471784.10    New York  192261.83   \n",
            "1   162597.70       151377.59        443898.53  California  191792.06   \n",
            "2   153441.51       101145.55        407934.54     Florida  191050.39   \n",
            "3   144372.41       118671.85        383199.62    New York  182901.99   \n",
            "4   142107.34        91391.77        366168.42     Florida  166187.94   \n",
            "5   131876.90        99814.71        362861.36    New York  156991.12   \n",
            "6   134615.46       147198.87        127716.82  California  156122.51   \n",
            "7   130298.13       145530.06        323876.68     Florida  155752.60   \n",
            "8   120542.52       148718.95        311613.29    New York  152211.77   \n",
            "9   123334.88       108679.17        304981.62  California  149759.96   \n",
            "10  101913.08       110594.11        229160.95     Florida  146121.95   \n",
            "11  100671.96        91790.61        249744.55  California  144259.40   \n",
            "12   93863.75       127320.38        249839.44     Florida  141585.52   \n",
            "13   91992.39       135495.07        252664.93  California  134307.35   \n",
            "14  119943.24       156547.42        256512.92     Florida  132602.65   \n",
            "15  114523.61       122616.84        261776.23    New York  129917.04   \n",
            "16   78013.11       121597.55        264346.06  California  126992.93   \n",
            "17   94657.16       145077.58        282574.31    New York  125370.37   \n",
            "18   91749.16       114175.79        294919.57     Florida  124266.90   \n",
            "20   76253.86       113867.30        298664.47  California  118474.03   \n",
            "21   78389.47       153773.43        299737.29    New York  111313.02   \n",
            "22   73994.56       122782.75        303319.26     Florida  110352.25   \n",
            "23   67532.53       105751.03        304768.73     Florida  108733.99   \n",
            "27   72107.60       127864.55        353183.81    New York  105008.31   \n",
            "34   46426.07       157693.92        210797.67  California   96712.80   \n",
            "46    1315.46       115816.21        297114.46     Florida   49490.75   \n",
            "\n",
            "    Total Spend  \n",
            "0     774031.10  \n",
            "1     757873.82  \n",
            "2     662521.60  \n",
            "3     646243.88  \n",
            "4     599667.53  \n",
            "5     594552.97  \n",
            "6     409531.15  \n",
            "7     599704.87  \n",
            "8     580874.76  \n",
            "9     536995.67  \n",
            "10    441668.14  \n",
            "11    442207.12  \n",
            "12    471023.57  \n",
            "13    480152.39  \n",
            "14    533003.58  \n",
            "15    498916.68  \n",
            "16    463956.72  \n",
            "17    522309.05  \n",
            "18    500844.52  \n",
            "20    488785.63  \n",
            "21    531900.19  \n",
            "22    500096.57  \n",
            "23    478052.29  \n",
            "27    553155.96  \n",
            "34    414917.66  \n",
            "46    414246.13  \n"
          ]
        }
      ]
    },
    {
      "cell_type": "code",
      "source": [
        "import pandas as pd\n",
        "df=pd.read_csv('50_Startups.csv')"
      ],
      "metadata": {
        "id": "gNuvjJcfGhin"
      },
      "execution_count": null,
      "outputs": []
    },
    {
      "cell_type": "code",
      "source": [
        "count=df[\"State\"].value_counts()\n",
        "print(count)"
      ],
      "metadata": {
        "colab": {
          "base_uri": "https://localhost:8080/"
        },
        "id": "BkkB9oylGrQH",
        "outputId": "4d2a0fd3-dbe5-4de9-bc14-cb2620479edc"
      },
      "execution_count": null,
      "outputs": [
        {
          "output_type": "stream",
          "name": "stdout",
          "text": [
            "State\n",
            "New York      17\n",
            "California    17\n",
            "Florida       16\n",
            "Name: count, dtype: int64\n"
          ]
        }
      ]
    },
    {
      "cell_type": "code",
      "source": [
        "average=df.groupby(\"State\")[\"Profit\"].mean()\n",
        "print(average)"
      ],
      "metadata": {
        "colab": {
          "base_uri": "https://localhost:8080/"
        },
        "id": "13BwaDNtHHc9",
        "outputId": "59ce1f45-b115-4601-f870-0fc3096e53e9"
      },
      "execution_count": null,
      "outputs": [
        {
          "output_type": "stream",
          "name": "stdout",
          "text": [
            "State\n",
            "California    103905.175294\n",
            "Florida       118774.024375\n",
            "New York      113756.446471\n",
            "Name: Profit, dtype: float64\n"
          ]
        }
      ]
    },
    {
      "cell_type": "code",
      "source": [
        "max=df.groupby(\"State\")[\"R&D Spend\"].max()\n",
        "print(max)\n"
      ],
      "metadata": {
        "colab": {
          "base_uri": "https://localhost:8080/"
        },
        "id": "X9tafGunH8vi",
        "outputId": "5073c2f8-d6a1-4703-d09a-f916a8da1733"
      },
      "execution_count": null,
      "outputs": [
        {
          "output_type": "stream",
          "name": "stdout",
          "text": [
            "State\n",
            "California    162597.70\n",
            "Florida       153441.51\n",
            "New York      165349.20\n",
            "Name: R&D Spend, dtype: float64\n"
          ]
        }
      ]
    },
    {
      "cell_type": "code",
      "source": [
        "mean=df['Administration'].mean()\n",
        "print(mean)"
      ],
      "metadata": {
        "colab": {
          "base_uri": "https://localhost:8080/"
        },
        "id": "1D4acxwCIgCd",
        "outputId": "808bfdce-26f1-497b-dd76-ded4908cb79c"
      },
      "execution_count": null,
      "outputs": [
        {
          "output_type": "stream",
          "name": "stdout",
          "text": [
            "121344.63960000001\n"
          ]
        }
      ]
    },
    {
      "cell_type": "code",
      "source": [
        "total=df.groupby(\"State\")[\"Marketing Spend\"].sum()\n",
        "print(total)"
      ],
      "metadata": {
        "colab": {
          "base_uri": "https://localhost:8080/"
        },
        "id": "p1YBv8RlJGVe",
        "outputId": "f679cd51-be03-4d6d-9e2a-5b587489bc9c"
      },
      "execution_count": null,
      "outputs": [
        {
          "output_type": "stream",
          "name": "stdout",
          "text": [
            "State\n",
            "California    3103195.80\n",
            "Florida       3957176.82\n",
            "New York      3490882.27\n",
            "Name: Marketing Spend, dtype: float64\n"
          ]
        }
      ]
    },
    {
      "cell_type": "code",
      "source": [
        "startups=df.sort_values(by=\"Profit\",ascending=False)\n",
        "print(startups)"
      ],
      "metadata": {
        "colab": {
          "base_uri": "https://localhost:8080/"
        },
        "id": "Z5TdJtMCJmUM",
        "outputId": "5435d9e3-2cd9-4758-ac4c-dbf3da78e42f"
      },
      "execution_count": null,
      "outputs": [
        {
          "output_type": "stream",
          "name": "stdout",
          "text": [
            "    R&D Spend  Administration  Marketing Spend       State     Profit\n",
            "0   165349.20       136897.80        471784.10    New York  192261.83\n",
            "1   162597.70       151377.59        443898.53  California  191792.06\n",
            "2   153441.51       101145.55        407934.54     Florida  191050.39\n",
            "3   144372.41       118671.85        383199.62    New York  182901.99\n",
            "4   142107.34        91391.77        366168.42     Florida  166187.94\n",
            "5   131876.90        99814.71        362861.36    New York  156991.12\n",
            "6   134615.46       147198.87        127716.82  California  156122.51\n",
            "7   130298.13       145530.06        323876.68     Florida  155752.60\n",
            "8   120542.52       148718.95        311613.29    New York  152211.77\n",
            "9   123334.88       108679.17        304981.62  California  149759.96\n",
            "10  101913.08       110594.11        229160.95     Florida  146121.95\n",
            "11  100671.96        91790.61        249744.55  California  144259.40\n",
            "12   93863.75       127320.38        249839.44     Florida  141585.52\n",
            "13   91992.39       135495.07        252664.93  California  134307.35\n",
            "14  119943.24       156547.42        256512.92     Florida  132602.65\n",
            "15  114523.61       122616.84        261776.23    New York  129917.04\n",
            "16   78013.11       121597.55        264346.06  California  126992.93\n",
            "17   94657.16       145077.58        282574.31    New York  125370.37\n",
            "18   91749.16       114175.79        294919.57     Florida  124266.90\n",
            "19   86419.70       153514.11             0.00    New York  122776.86\n",
            "20   76253.86       113867.30        298664.47  California  118474.03\n",
            "21   78389.47       153773.43        299737.29    New York  111313.02\n",
            "22   73994.56       122782.75        303319.26     Florida  110352.25\n",
            "23   67532.53       105751.03        304768.73     Florida  108733.99\n",
            "24   77044.01        99281.34        140574.81    New York  108552.04\n",
            "25   64664.71       139553.16        137962.62  California  107404.34\n",
            "26   75328.87       144135.98        134050.07     Florida  105733.54\n",
            "27   72107.60       127864.55        353183.81    New York  105008.31\n",
            "28   66051.52       182645.56        118148.20     Florida  103282.38\n",
            "29   65605.48       153032.06        107138.38    New York  101004.64\n",
            "30   61994.48       115641.28         91131.24     Florida   99937.59\n",
            "31   61136.38       152701.92         88218.23    New York   97483.56\n",
            "32   63408.86       129219.61         46085.25  California   97427.84\n",
            "33   55493.95       103057.49        214634.81     Florida   96778.92\n",
            "34   46426.07       157693.92        210797.67  California   96712.80\n",
            "35   46014.02        85047.44        205517.64    New York   96479.51\n",
            "36   28663.76       127056.21        201126.82     Florida   90708.19\n",
            "37   44069.95        51283.14        197029.42  California   89949.14\n",
            "38   20229.59        65947.93        185265.10    New York   81229.06\n",
            "39   38558.51        82982.09        174999.30  California   81005.76\n",
            "40   28754.33       118546.05        172795.67  California   78239.91\n",
            "41   27892.92        84710.77        164470.71     Florida   77798.83\n",
            "42   23640.93        96189.63        148001.11  California   71498.49\n",
            "43   15505.73       127382.30         35534.17    New York   69758.98\n",
            "44   22177.74       154806.14         28334.72  California   65200.33\n",
            "45    1000.23       124153.04          1903.93    New York   64926.08\n",
            "46    1315.46       115816.21        297114.46     Florida   49490.75\n",
            "47       0.00       135426.92             0.00  California   42559.73\n",
            "48     542.05        51743.15             0.00    New York   35673.41\n",
            "49       0.00       116983.80         45173.06  California   14681.40\n"
          ]
        }
      ]
    },
    {
      "cell_type": "code",
      "source": [
        "df['Total Spend'] = df['R&D Spend'] + df['Administration'] + df['Marketing Spend']\n",
        "print(df['Total Spend'])"
      ],
      "metadata": {
        "colab": {
          "base_uri": "https://localhost:8080/"
        },
        "id": "41FPuFiGLX-X",
        "outputId": "a486a9d6-293b-478e-a72f-821b9c4f81c2"
      },
      "execution_count": null,
      "outputs": [
        {
          "output_type": "stream",
          "name": "stdout",
          "text": [
            "0     774031.10\n",
            "1     757873.82\n",
            "2     662521.60\n",
            "3     646243.88\n",
            "4     599667.53\n",
            "5     594552.97\n",
            "6     409531.15\n",
            "7     599704.87\n",
            "8     580874.76\n",
            "9     536995.67\n",
            "10    441668.14\n",
            "11    442207.12\n",
            "12    471023.57\n",
            "13    480152.39\n",
            "14    533003.58\n",
            "15    498916.68\n",
            "16    463956.72\n",
            "17    522309.05\n",
            "18    500844.52\n",
            "19    239933.81\n",
            "20    488785.63\n",
            "21    531900.19\n",
            "22    500096.57\n",
            "23    478052.29\n",
            "24    316900.16\n",
            "25    342180.49\n",
            "26    353514.92\n",
            "27    553155.96\n",
            "28    366845.28\n",
            "29    325775.92\n",
            "30    268767.00\n",
            "31    302056.53\n",
            "32    238713.72\n",
            "33    373186.25\n",
            "34    414917.66\n",
            "35    336579.10\n",
            "36    356846.79\n",
            "37    292382.51\n",
            "38    271442.62\n",
            "39    296539.90\n",
            "40    320096.05\n",
            "41    277074.40\n",
            "42    267831.67\n",
            "43    178422.20\n",
            "44    205318.60\n",
            "45    127057.20\n",
            "46    414246.13\n",
            "47    135426.92\n",
            "48     52285.20\n",
            "49    162156.86\n",
            "Name: Total Spend, dtype: float64\n"
          ]
        }
      ]
    },
    {
      "cell_type": "code",
      "source": [
        "startups=df.sort_values(by=\"Total_Spend\"and\"Profit\")\n",
        "print(startups)"
      ],
      "metadata": {
        "colab": {
          "base_uri": "https://localhost:8080/"
        },
        "id": "rd7RIn7oLvnY",
        "outputId": "4bbcfa5e-4031-4ad0-c249-0febe1ffbb5c"
      },
      "execution_count": null,
      "outputs": [
        {
          "output_type": "stream",
          "name": "stdout",
          "text": [
            "    R&D Spend  Administration  Marketing Spend       State     Profit  \\\n",
            "49       0.00       116983.80         45173.06  California   14681.40   \n",
            "48     542.05        51743.15             0.00    New York   35673.41   \n",
            "47       0.00       135426.92             0.00  California   42559.73   \n",
            "46    1315.46       115816.21        297114.46     Florida   49490.75   \n",
            "45    1000.23       124153.04          1903.93    New York   64926.08   \n",
            "44   22177.74       154806.14         28334.72  California   65200.33   \n",
            "43   15505.73       127382.30         35534.17    New York   69758.98   \n",
            "42   23640.93        96189.63        148001.11  California   71498.49   \n",
            "41   27892.92        84710.77        164470.71     Florida   77798.83   \n",
            "40   28754.33       118546.05        172795.67  California   78239.91   \n",
            "39   38558.51        82982.09        174999.30  California   81005.76   \n",
            "38   20229.59        65947.93        185265.10    New York   81229.06   \n",
            "37   44069.95        51283.14        197029.42  California   89949.14   \n",
            "36   28663.76       127056.21        201126.82     Florida   90708.19   \n",
            "35   46014.02        85047.44        205517.64    New York   96479.51   \n",
            "34   46426.07       157693.92        210797.67  California   96712.80   \n",
            "33   55493.95       103057.49        214634.81     Florida   96778.92   \n",
            "32   63408.86       129219.61         46085.25  California   97427.84   \n",
            "31   61136.38       152701.92         88218.23    New York   97483.56   \n",
            "30   61994.48       115641.28         91131.24     Florida   99937.59   \n",
            "29   65605.48       153032.06        107138.38    New York  101004.64   \n",
            "28   66051.52       182645.56        118148.20     Florida  103282.38   \n",
            "27   72107.60       127864.55        353183.81    New York  105008.31   \n",
            "26   75328.87       144135.98        134050.07     Florida  105733.54   \n",
            "25   64664.71       139553.16        137962.62  California  107404.34   \n",
            "24   77044.01        99281.34        140574.81    New York  108552.04   \n",
            "23   67532.53       105751.03        304768.73     Florida  108733.99   \n",
            "22   73994.56       122782.75        303319.26     Florida  110352.25   \n",
            "21   78389.47       153773.43        299737.29    New York  111313.02   \n",
            "20   76253.86       113867.30        298664.47  California  118474.03   \n",
            "19   86419.70       153514.11             0.00    New York  122776.86   \n",
            "18   91749.16       114175.79        294919.57     Florida  124266.90   \n",
            "17   94657.16       145077.58        282574.31    New York  125370.37   \n",
            "16   78013.11       121597.55        264346.06  California  126992.93   \n",
            "15  114523.61       122616.84        261776.23    New York  129917.04   \n",
            "14  119943.24       156547.42        256512.92     Florida  132602.65   \n",
            "13   91992.39       135495.07        252664.93  California  134307.35   \n",
            "12   93863.75       127320.38        249839.44     Florida  141585.52   \n",
            "11  100671.96        91790.61        249744.55  California  144259.40   \n",
            "10  101913.08       110594.11        229160.95     Florida  146121.95   \n",
            "9   123334.88       108679.17        304981.62  California  149759.96   \n",
            "8   120542.52       148718.95        311613.29    New York  152211.77   \n",
            "7   130298.13       145530.06        323876.68     Florida  155752.60   \n",
            "6   134615.46       147198.87        127716.82  California  156122.51   \n",
            "5   131876.90        99814.71        362861.36    New York  156991.12   \n",
            "4   142107.34        91391.77        366168.42     Florida  166187.94   \n",
            "3   144372.41       118671.85        383199.62    New York  182901.99   \n",
            "2   153441.51       101145.55        407934.54     Florida  191050.39   \n",
            "1   162597.70       151377.59        443898.53  California  191792.06   \n",
            "0   165349.20       136897.80        471784.10    New York  192261.83   \n",
            "\n",
            "    Total Spend  \n",
            "49    162156.86  \n",
            "48     52285.20  \n",
            "47    135426.92  \n",
            "46    414246.13  \n",
            "45    127057.20  \n",
            "44    205318.60  \n",
            "43    178422.20  \n",
            "42    267831.67  \n",
            "41    277074.40  \n",
            "40    320096.05  \n",
            "39    296539.90  \n",
            "38    271442.62  \n",
            "37    292382.51  \n",
            "36    356846.79  \n",
            "35    336579.10  \n",
            "34    414917.66  \n",
            "33    373186.25  \n",
            "32    238713.72  \n",
            "31    302056.53  \n",
            "30    268767.00  \n",
            "29    325775.92  \n",
            "28    366845.28  \n",
            "27    553155.96  \n",
            "26    353514.92  \n",
            "25    342180.49  \n",
            "24    316900.16  \n",
            "23    478052.29  \n",
            "22    500096.57  \n",
            "21    531900.19  \n",
            "20    488785.63  \n",
            "19    239933.81  \n",
            "18    500844.52  \n",
            "17    522309.05  \n",
            "16    463956.72  \n",
            "15    498916.68  \n",
            "14    533003.58  \n",
            "13    480152.39  \n",
            "12    471023.57  \n",
            "11    442207.12  \n",
            "10    441668.14  \n",
            "9     536995.67  \n",
            "8     580874.76  \n",
            "7     599704.87  \n",
            "6     409531.15  \n",
            "5     594552.97  \n",
            "4     599667.53  \n",
            "3     646243.88  \n",
            "2     662521.60  \n",
            "1     757873.82  \n",
            "0     774031.10  \n"
          ]
        }
      ]
    },
    {
      "cell_type": "code",
      "source": [
        "startups=df.sort_values(by=\"R&D Spend\").head(5)\n",
        "print(startups)"
      ],
      "metadata": {
        "colab": {
          "base_uri": "https://localhost:8080/"
        },
        "id": "RGftKj9bN9sC",
        "outputId": "fd9e3fbe-bdef-44c3-ea52-dca83a7d13ea"
      },
      "execution_count": null,
      "outputs": [
        {
          "output_type": "stream",
          "name": "stdout",
          "text": [
            "    R&D Spend  Administration  Marketing Spend       State    Profit  \\\n",
            "49       0.00       116983.80         45173.06  California  14681.40   \n",
            "47       0.00       135426.92             0.00  California  42559.73   \n",
            "48     542.05        51743.15             0.00    New York  35673.41   \n",
            "45    1000.23       124153.04          1903.93    New York  64926.08   \n",
            "46    1315.46       115816.21        297114.46     Florida  49490.75   \n",
            "\n",
            "    Total Spend  \n",
            "49    162156.86  \n",
            "47    135426.92  \n",
            "48     52285.20  \n",
            "45    127057.20  \n",
            "46    414246.13  \n"
          ]
        }
      ]
    },
    {
      "cell_type": "code",
      "source": [
        "import pandas as pd\n",
        "df=pd.read_csv('50_Startups.csv')"
      ],
      "metadata": {
        "id": "Ka49Kr6oBDZ-"
      },
      "execution_count": null,
      "outputs": []
    },
    {
      "cell_type": "code",
      "source": [
        "df['Total Spend'] = df['R&D Spend'] + df['Administration'] + df['Marketing Spend']\n",
        "df[\"Profit Margin %\"] = (df[\"Profit\"] / df[\"Total Spend\"]) * 100\n",
        "print(df)"
      ],
      "metadata": {
        "colab": {
          "base_uri": "https://localhost:8080/"
        },
        "id": "X5aFSBUeDTHz",
        "outputId": "2c899946-5582-43c5-e3c7-190daa30e259"
      },
      "execution_count": null,
      "outputs": [
        {
          "output_type": "stream",
          "name": "stdout",
          "text": [
            "    R&D Spend  Administration  Marketing Spend       State     Profit  \\\n",
            "0   165349.20       136897.80        471784.10    New York  192261.83   \n",
            "1   162597.70       151377.59        443898.53  California  191792.06   \n",
            "2   153441.51       101145.55        407934.54     Florida  191050.39   \n",
            "3   144372.41       118671.85        383199.62    New York  182901.99   \n",
            "4   142107.34        91391.77        366168.42     Florida  166187.94   \n",
            "5   131876.90        99814.71        362861.36    New York  156991.12   \n",
            "6   134615.46       147198.87        127716.82  California  156122.51   \n",
            "7   130298.13       145530.06        323876.68     Florida  155752.60   \n",
            "8   120542.52       148718.95        311613.29    New York  152211.77   \n",
            "9   123334.88       108679.17        304981.62  California  149759.96   \n",
            "10  101913.08       110594.11        229160.95     Florida  146121.95   \n",
            "11  100671.96        91790.61        249744.55  California  144259.40   \n",
            "12   93863.75       127320.38        249839.44     Florida  141585.52   \n",
            "13   91992.39       135495.07        252664.93  California  134307.35   \n",
            "14  119943.24       156547.42        256512.92     Florida  132602.65   \n",
            "15  114523.61       122616.84        261776.23    New York  129917.04   \n",
            "16   78013.11       121597.55        264346.06  California  126992.93   \n",
            "17   94657.16       145077.58        282574.31    New York  125370.37   \n",
            "18   91749.16       114175.79        294919.57     Florida  124266.90   \n",
            "19   86419.70       153514.11             0.00    New York  122776.86   \n",
            "20   76253.86       113867.30        298664.47  California  118474.03   \n",
            "21   78389.47       153773.43        299737.29    New York  111313.02   \n",
            "22   73994.56       122782.75        303319.26     Florida  110352.25   \n",
            "23   67532.53       105751.03        304768.73     Florida  108733.99   \n",
            "24   77044.01        99281.34        140574.81    New York  108552.04   \n",
            "25   64664.71       139553.16        137962.62  California  107404.34   \n",
            "26   75328.87       144135.98        134050.07     Florida  105733.54   \n",
            "27   72107.60       127864.55        353183.81    New York  105008.31   \n",
            "28   66051.52       182645.56        118148.20     Florida  103282.38   \n",
            "29   65605.48       153032.06        107138.38    New York  101004.64   \n",
            "30   61994.48       115641.28         91131.24     Florida   99937.59   \n",
            "31   61136.38       152701.92         88218.23    New York   97483.56   \n",
            "32   63408.86       129219.61         46085.25  California   97427.84   \n",
            "33   55493.95       103057.49        214634.81     Florida   96778.92   \n",
            "34   46426.07       157693.92        210797.67  California   96712.80   \n",
            "35   46014.02        85047.44        205517.64    New York   96479.51   \n",
            "36   28663.76       127056.21        201126.82     Florida   90708.19   \n",
            "37   44069.95        51283.14        197029.42  California   89949.14   \n",
            "38   20229.59        65947.93        185265.10    New York   81229.06   \n",
            "39   38558.51        82982.09        174999.30  California   81005.76   \n",
            "40   28754.33       118546.05        172795.67  California   78239.91   \n",
            "41   27892.92        84710.77        164470.71     Florida   77798.83   \n",
            "42   23640.93        96189.63        148001.11  California   71498.49   \n",
            "43   15505.73       127382.30         35534.17    New York   69758.98   \n",
            "44   22177.74       154806.14         28334.72  California   65200.33   \n",
            "45    1000.23       124153.04          1903.93    New York   64926.08   \n",
            "46    1315.46       115816.21        297114.46     Florida   49490.75   \n",
            "47       0.00       135426.92             0.00  California   42559.73   \n",
            "48     542.05        51743.15             0.00    New York   35673.41   \n",
            "49       0.00       116983.80         45173.06  California   14681.40   \n",
            "\n",
            "    Total Spend  Profit Margin %  \n",
            "0     774031.10        24.839032  \n",
            "1     757873.82        25.306595  \n",
            "2     662521.60        28.836855  \n",
            "3     646243.88        28.302317  \n",
            "4     599667.53        27.713346  \n",
            "5     594552.97        26.404900  \n",
            "6     409531.15        38.122255  \n",
            "7     599704.87        25.971542  \n",
            "8     580874.76        26.203888  \n",
            "9     536995.67        27.888486  \n",
            "10    441668.14        33.084105  \n",
            "11    442207.12        32.622586  \n",
            "12    471023.57        30.059116  \n",
            "13    480152.39        27.971817  \n",
            "14    533003.58        24.878379  \n",
            "15    498916.68        26.039827  \n",
            "16    463956.72        27.371719  \n",
            "17    522309.05        24.003101  \n",
            "18    500844.52        24.811472  \n",
            "19    239933.81        51.171138  \n",
            "20    488785.63        24.238444  \n",
            "21    531900.19        20.927426  \n",
            "22    500096.57        22.066188  \n",
            "23    478052.29        22.745208  \n",
            "24    316900.16        34.254334  \n",
            "25    342180.49        31.388213  \n",
            "26    353514.92        29.909216  \n",
            "27    553155.96        18.983491  \n",
            "28    366845.28        28.154207  \n",
            "29    325775.92        31.004330  \n",
            "30    268767.00        37.183728  \n",
            "31    302056.53        32.273283  \n",
            "32    238713.72        40.813674  \n",
            "33    373186.25        25.933142  \n",
            "34    414917.66        23.308914  \n",
            "35    336579.10        28.664736  \n",
            "36    356846.79        25.419366  \n",
            "37    292382.51        30.764200  \n",
            "38    271442.62        29.924947  \n",
            "39    296539.90        27.316985  \n",
            "40    320096.05        24.442635  \n",
            "41    277074.40        28.078679  \n",
            "42    267831.67        26.695308  \n",
            "43    178422.20        39.097702  \n",
            "44    205318.60        31.755686  \n",
            "45    127057.20        51.099883  \n",
            "46    414246.13        11.947185  \n",
            "47    135426.92        31.426344  \n",
            "48     52285.20        68.228504  \n",
            "49    162156.86         9.053826  \n"
          ]
        }
      ]
    },
    {
      "cell_type": "code",
      "source": [
        "df.to_csv(\"final_startups.csv\")"
      ],
      "metadata": {
        "id": "KXeHNohVEn-d"
      },
      "execution_count": null,
      "outputs": []
    }
  ]
}