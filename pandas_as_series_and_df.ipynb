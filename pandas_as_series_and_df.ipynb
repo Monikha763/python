{
  "nbformat": 4,
  "nbformat_minor": 0,
  "metadata": {
    "colab": {
      "provenance": [],
      "authorship_tag": "ABX9TyODyJ/T0SNQEPlMX0L29dme",
      "include_colab_link": true
    },
    "kernelspec": {
      "name": "python3",
      "display_name": "Python 3"
    },
    "language_info": {
      "name": "python"
    }
  },
  "cells": [
    {
      "cell_type": "markdown",
      "metadata": {
        "id": "view-in-github",
        "colab_type": "text"
      },
      "source": [
        "<a href=\"https://colab.research.google.com/github/Monikha763/python/blob/main/pandas_as_series_and_df.ipynb\" target=\"_parent\"><img src=\"https://colab.research.google.com/assets/colab-badge.svg\" alt=\"Open In Colab\"/></a>"
      ]
    },
    {
      "cell_type": "code",
      "source": [
        "import pandas as pd\n",
        "fruit=[\"apple\",\"mango\",\"grapes\",\"cherry\",\"jackfruit\"]\n",
        "s=pd.Series(fruit)\n",
        "print(s)"
      ],
      "metadata": {
        "colab": {
          "base_uri": "https://localhost:8080/"
        },
        "id": "oiQILgCoNdJb",
        "outputId": "a0f22b79-6298-4269-c84d-45e625e69cf5"
      },
      "execution_count": null,
      "outputs": [
        {
          "output_type": "stream",
          "name": "stdout",
          "text": [
            "0        apple\n",
            "1        mango\n",
            "2       grapes\n",
            "3       cherry\n",
            "4    jackfruit\n",
            "dtype: object\n"
          ]
        }
      ]
    },
    {
      "cell_type": "code",
      "source": [
        "import pandas as pd\n",
        "even=[2,4,6,8]\n",
        "s=pd.Series(sum(even))\n",
        "print(s)"
      ],
      "metadata": {
        "colab": {
          "base_uri": "https://localhost:8080/"
        },
        "id": "RcgySsbqNe7O",
        "outputId": "28a133e6-4d84-470d-e067-0a991274f283"
      },
      "execution_count": null,
      "outputs": [
        {
          "output_type": "stream",
          "name": "stdout",
          "text": [
            "0    20\n",
            "dtype: int64\n"
          ]
        }
      ]
    },
    {
      "cell_type": "code",
      "source": [
        "import pandas as pd\n",
        "subject=[\"math\",\"english\",\"hindi\"]\n",
        "mark=[99,98,65]\n",
        "s=pd.Series(subject,mark)\n",
        "print(s)"
      ],
      "metadata": {
        "colab": {
          "base_uri": "https://localhost:8080/"
        },
        "id": "meFrGvD1N8Mk",
        "outputId": "d44abe48-6581-47a2-fb4f-8aa25a7d5469"
      },
      "execution_count": null,
      "outputs": [
        {
          "output_type": "stream",
          "name": "stdout",
          "text": [
            "99       math\n",
            "98    english\n",
            "65      hindi\n",
            "dtype: object\n"
          ]
        }
      ]
    },
    {
      "cell_type": "code",
      "source": [
        "import pandas as pd\n",
        "subject=[\"math\",\"english\",\"hindi\"]\n",
        "mark=[99,98,65]\n",
        "s=pd.Series(max(mark))\n",
        "print(s)"
      ],
      "metadata": {
        "colab": {
          "base_uri": "https://localhost:8080/"
        },
        "id": "8Q9-Up-mQWma",
        "outputId": "b88afabd-ab26-4556-cec7-7485891d488b"
      },
      "execution_count": null,
      "outputs": [
        {
          "output_type": "stream",
          "name": "stdout",
          "text": [
            "0    99\n",
            "dtype: int64\n"
          ]
        }
      ]
    },
    {
      "cell_type": "code",
      "source": [
        "import pandas as pd\n",
        "subject=[\"math\",\"english\",\"hindi\"]\n",
        "mark=[99,98,65]\n",
        "s=pd.Series(min(mark))\n",
        "print(s)"
      ],
      "metadata": {
        "colab": {
          "base_uri": "https://localhost:8080/"
        },
        "id": "EJqdMtFoQ3lG",
        "outputId": "d420ac21-bfa3-448c-ca09-63ea293bfa49"
      },
      "execution_count": null,
      "outputs": [
        {
          "output_type": "stream",
          "name": "stdout",
          "text": [
            "0    65\n",
            "dtype: int64\n"
          ]
        }
      ]
    },
    {
      "cell_type": "code",
      "source": [
        "import pandas as pd\n",
        "country_capitals={\"India\":\"New Delhi\",\"France\":\"paris\",\"japan\":\"tokyo\",\"Germany\": \"Berlin\"}\n",
        "s=pd.Series(country_capitals)\n",
        "print(s)"
      ],
      "metadata": {
        "colab": {
          "base_uri": "https://localhost:8080/"
        },
        "id": "oIqUaFmHQ8Dz",
        "outputId": "bcf9e68f-4a14-4ffe-b104-333b88a29668"
      },
      "execution_count": null,
      "outputs": [
        {
          "output_type": "stream",
          "name": "stdout",
          "text": [
            "India      New Delhi\n",
            "France         paris\n",
            "japan          tokyo\n",
            "Germany       Berlin\n",
            "dtype: object\n"
          ]
        }
      ]
    },
    {
      "cell_type": "code",
      "source": [
        "import pandas as pd\n",
        "country_capitals={\"India\":\"New Delhi\",\"France\":\"paris\",\"japan\":\"tokyo\",\"Germany\": \"Berlin\"}\n",
        "s=pd.Series(country_capitals[\"India\"])\n",
        "print(s)"
      ],
      "metadata": {
        "colab": {
          "base_uri": "https://localhost:8080/"
        },
        "id": "w1nLvm0qSdgh",
        "outputId": "47a970db-71e4-4131-c36f-2276d6daf7f4"
      },
      "execution_count": null,
      "outputs": [
        {
          "output_type": "stream",
          "name": "stdout",
          "text": [
            "0    New Delhi\n",
            "dtype: object\n"
          ]
        }
      ]
    },
    {
      "cell_type": "code",
      "source": [
        "import pandas as pd\n",
        "temp=[98,30,45,99,45,90]\n",
        "s=pd.Series(sum(temp)/len(temp))\n",
        "print(s)"
      ],
      "metadata": {
        "colab": {
          "base_uri": "https://localhost:8080/"
        },
        "id": "39_Hj0PnUnui",
        "outputId": "26077189-4f8c-4184-b120-447b7687da43"
      },
      "execution_count": null,
      "outputs": [
        {
          "output_type": "stream",
          "name": "stdout",
          "text": [
            "0    67.833333\n",
            "dtype: float64\n"
          ]
        }
      ]
    },
    {
      "cell_type": "code",
      "source": [
        "import pandas as pd\n",
        "temp=[98,30,45,99,45,90]\n",
        "a=[]\n",
        "for i in temp:\n",
        "  if i>30:\n",
        "    a.append(i)\n",
        "print(a)"
      ],
      "metadata": {
        "colab": {
          "base_uri": "https://localhost:8080/"
        },
        "id": "rpeWq-ZOUqjf",
        "outputId": "3c21e9f0-f602-455e-d6e3-bc53f589b7e0"
      },
      "execution_count": null,
      "outputs": [
        {
          "output_type": "stream",
          "name": "stdout",
          "text": [
            "[98, 45, 99, 45, 90]\n"
          ]
        }
      ]
    },
    {
      "cell_type": "code",
      "source": [
        "import pandas as pd\n",
        "data=[\"a\",\"b\",\"c\",\"d\"]\n",
        "s=pd.Series(data)\n",
        "print(s)"
      ],
      "metadata": {
        "colab": {
          "base_uri": "https://localhost:8080/"
        },
        "id": "GPm4HdNRW8in",
        "outputId": "dbe7de35-c83d-4c74-a969-982c5bdaf031"
      },
      "execution_count": null,
      "outputs": [
        {
          "output_type": "stream",
          "name": "stdout",
          "text": [
            "0    a\n",
            "1    b\n",
            "2    c\n",
            "3    d\n",
            "dtype: object\n"
          ]
        }
      ]
    },
    {
      "cell_type": "code",
      "source": [
        "import pandas as pd\n",
        "data=[[1,2],[3,4],[5,6]]\n",
        "s=pd.Series(data)\n",
        "print(s)"
      ],
      "metadata": {
        "id": "JugEq45LZFWB",
        "outputId": "abdbad4f-b9c0-47c6-e862-9e63dfef364c",
        "colab": {
          "base_uri": "https://localhost:8080/"
        }
      },
      "execution_count": null,
      "outputs": [
        {
          "output_type": "stream",
          "name": "stdout",
          "text": [
            "0    [1, 2]\n",
            "1    [3, 4]\n",
            "2    [5, 6]\n",
            "dtype: object\n"
          ]
        }
      ]
    },
    {
      "cell_type": "code",
      "source": [
        "print(\"type of elemet:\")\n",
        "print(type(s))"
      ],
      "metadata": {
        "id": "NKHJQ-sJaMb6",
        "outputId": "72b9d78e-c980-4ab7-def0-0b57b78e9fb4",
        "colab": {
          "base_uri": "https://localhost:8080/"
        }
      },
      "execution_count": null,
      "outputs": [
        {
          "output_type": "stream",
          "name": "stdout",
          "text": [
            "type of elemet:\n",
            "<class 'pandas.core.series.Series'>\n"
          ]
        }
      ]
    },
    {
      "cell_type": "markdown",
      "source": [
        "***data frame***\n"
      ],
      "metadata": {
        "id": "mHTQ7rXYwJIL"
      }
    },
    {
      "cell_type": "code",
      "source": [
        "import pandas as pd\n",
        "data={\n",
        "    \"name\":[\"monikha\",\"loges\",\"poornima\"],\n",
        "     \"age\":[22,21,20]}\n",
        "df=pd.DataFrame(data)\n",
        "print(df)"
      ],
      "metadata": {
        "colab": {
          "base_uri": "https://localhost:8080/"
        },
        "id": "oGiB_6Z2_Brx",
        "outputId": "def75c4e-44e3-4b3f-b9bf-b4c2bb861953"
      },
      "execution_count": null,
      "outputs": [
        {
          "output_type": "stream",
          "name": "stdout",
          "text": [
            "       name  age\n",
            "0   monikha   22\n",
            "1     loges   21\n",
            "2  poornima   20\n"
          ]
        }
      ]
    },
    {
      "cell_type": "code",
      "source": [
        "import pandas as pd\n",
        "data={\n",
        "    \"name\":[\"monikha\",\"loges\",\"poornima\"],\n",
        "     \"age\":[22,21,20],\n",
        "     \"city\":[\"Madurai\",\"chennai\",\"dindugal\"]}\n",
        "df=pd.DataFrame(data)\n",
        "print(df)"
      ],
      "metadata": {
        "colab": {
          "base_uri": "https://localhost:8080/"
        },
        "id": "8_Wk_E75Achr",
        "outputId": "9dc7a4ec-40b6-4eb4-f456-e5177d1c4e0d"
      },
      "execution_count": null,
      "outputs": [
        {
          "output_type": "stream",
          "name": "stdout",
          "text": [
            "       name  age      city\n",
            "0   monikha   22   Madurai\n",
            "1     loges   21   chennai\n",
            "2  poornima   20  dindugal\n"
          ]
        }
      ]
    },
    {
      "cell_type": "code",
      "source": [
        "import pandas as pd\n",
        "data={\n",
        "    \"name\":[\"monikha\",\"loges\",\"poornima\"],\n",
        "     \"age\":[22,21,20],\n",
        "     \"city\":[\"Madurai\",\"chennai\",\"dindugal\"]}\n",
        "df=pd.DataFrame(data)\n",
        "print(df[\"name\"])"
      ],
      "metadata": {
        "colab": {
          "base_uri": "https://localhost:8080/"
        },
        "id": "h1D2ueP_BLPt",
        "outputId": "34830ab0-ae75-48ad-d30d-40ac675c22cf"
      },
      "execution_count": null,
      "outputs": [
        {
          "output_type": "stream",
          "name": "stdout",
          "text": [
            "0     monikha\n",
            "1       loges\n",
            "2    poornima\n",
            "Name: name, dtype: object\n"
          ]
        }
      ]
    },
    {
      "cell_type": "code",
      "source": [
        "print(df[\"age\"]>25)"
      ],
      "metadata": {
        "colab": {
          "base_uri": "https://localhost:8080/"
        },
        "id": "iY8hRkIUC60G",
        "outputId": "45680341-2527-4d74-931e-bf88dfe90e86"
      },
      "execution_count": null,
      "outputs": [
        {
          "output_type": "stream",
          "name": "stdout",
          "text": [
            "0    False\n",
            "1    False\n",
            "2    False\n",
            "Name: age, dtype: bool\n"
          ]
        }
      ]
    },
    {
      "cell_type": "code",
      "source": [
        "import pandas as pd\n",
        "data={\n",
        "    \"name\":[\"monikha\",\"loges\",\"poornima\"],\n",
        "     \"age\":[22,21,20],\n",
        "     \"city\":[\"Madurai\",\"chennai\",\"dindugal\"]}\n",
        "df[\"status\"]=\"active\"\n",
        "print(df)\n",
        "\n"
      ],
      "metadata": {
        "colab": {
          "base_uri": "https://localhost:8080/"
        },
        "id": "m9XljJk8DzFL",
        "outputId": "a48b2f6f-58c1-4f62-f780-df4a1501c5f1"
      },
      "execution_count": null,
      "outputs": [
        {
          "output_type": "stream",
          "name": "stdout",
          "text": [
            "       name  age      city  status\n",
            "0   monikha   22   Madurai  active\n",
            "1     loges   21   chennai  active\n",
            "2  poornima   20  dindugal  active\n"
          ]
        }
      ]
    },
    {
      "cell_type": "code",
      "source": [
        "import pandas as pd\n",
        "data={\n",
        "    \"price\":[100,200,300],\n",
        "    \"quantity\":[5,10,20]}\n",
        "df=pd.DataFrame(data)\n",
        "print(df)"
      ],
      "metadata": {
        "colab": {
          "base_uri": "https://localhost:8080/"
        },
        "id": "eBi0bbdzELiP",
        "outputId": "ab84b7b7-4db4-4c20-cc0e-5491b23a31c6"
      },
      "execution_count": null,
      "outputs": [
        {
          "output_type": "stream",
          "name": "stdout",
          "text": [
            "   price  quantity\n",
            "0    100         5\n",
            "1    200        10\n",
            "2    300        20\n"
          ]
        }
      ]
    },
    {
      "cell_type": "code",
      "source": [
        "import pandas as pd\n",
        "data={\n",
        "    \"price\":[100,200,300],\n",
        "    \"quantity\":[5,10,20]}\n",
        "df[\"total\"]=df[\"price\"]*df[\"quantity\"]\n",
        "print(df)"
      ],
      "metadata": {
        "colab": {
          "base_uri": "https://localhost:8080/"
        },
        "id": "IePbAHyiGKxz",
        "outputId": "76fa7825-5106-491c-97e0-abb60cc258fb"
      },
      "execution_count": null,
      "outputs": [
        {
          "output_type": "stream",
          "name": "stdout",
          "text": [
            "   price  quantity  total\n",
            "0    100         5    500\n",
            "1    200        10   2000\n",
            "2    300        20   6000\n"
          ]
        }
      ]
    },
    {
      "cell_type": "code",
      "source": [
        "import pandas as pd\n",
        "data={\n",
        "    \"price\":[100,200,300],\n",
        "    \"quantity\":[5,10,20]}\n",
        "df=pd.DataFrame(data)\n",
        "print(df.describe())\n"
      ],
      "metadata": {
        "colab": {
          "base_uri": "https://localhost:8080/"
        },
        "id": "pO_PWn4iJjrV",
        "outputId": "c12bf3a1-ae14-4cab-c36e-d142ceeb813f"
      },
      "execution_count": null,
      "outputs": [
        {
          "output_type": "stream",
          "name": "stdout",
          "text": [
            "       price   quantity\n",
            "count    3.0   3.000000\n",
            "mean   200.0  11.666667\n",
            "std    100.0   7.637626\n",
            "min    100.0   5.000000\n",
            "25%    150.0   7.500000\n",
            "50%    200.0  10.000000\n",
            "75%    250.0  15.000000\n",
            "max    300.0  20.000000\n"
          ]
        }
      ]
    },
    {
      "cell_type": "code",
      "source": [
        "import pandas as pd\n",
        "data=[[\"monikha\",25,95],[\"poonrima\",22,94],[\"loges\",21,87]]\n",
        "df=pd.DataFrame(data,columns=[\"name\",\"age\",\"marks\"])\n",
        "print(df)"
      ],
      "metadata": {
        "colab": {
          "base_uri": "https://localhost:8080/"
        },
        "id": "uQi2gu98f1Yj",
        "outputId": "d27b0046-eeaa-4179-e7e1-d298c84d311b"
      },
      "execution_count": null,
      "outputs": [
        {
          "output_type": "stream",
          "name": "stdout",
          "text": [
            "       name  age  marks\n",
            "0   monikha   25     95\n",
            "1  poonrima   22     94\n",
            "2     loges   21     87\n"
          ]
        }
      ]
    },
    {
      "cell_type": "code",
      "source": [
        "import pandas as pd\n",
        "a=[['mango',20],['apple',40],['cherry',10]]\n",
        "columns=['fruits','price']\n",
        "df=pd.DataFrame(a,columns=columns)\n",
        "df=df.sort_values(by='price',ascending=False)\n",
        "print(df)"
      ],
      "metadata": {
        "id": "3AyrC12If94q",
        "colab": {
          "base_uri": "https://localhost:8080/"
        },
        "outputId": "0a7316ed-fc8f-4442-aab1-6bd2d17e0f68"
      },
      "execution_count": 1,
      "outputs": [
        {
          "output_type": "stream",
          "name": "stdout",
          "text": [
            "   fruits  price\n",
            "1   apple     40\n",
            "0   mango     20\n",
            "2  cherry     10\n"
          ]
        }
      ]
    }
  ]
}