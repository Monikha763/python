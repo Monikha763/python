{
  "cells": [
    {
      "cell_type": "markdown",
      "metadata": {
        "id": "view-in-github",
        "colab_type": "text"
      },
      "source": [
        "<a href=\"https://colab.research.google.com/github/Monikha763/python/blob/main/python_codes.ipynb\" target=\"_parent\"><img src=\"https://colab.research.google.com/assets/colab-badge.svg\" alt=\"Open In Colab\"/></a>"
      ]
    },
    {
      "cell_type": "code",
      "execution_count": null,
      "metadata": {
        "colab": {
          "base_uri": "https://localhost:8080/"
        },
        "id": "WF8Gg4l5_pOS",
        "outputId": "6cf0d26c-c3bd-4b6e-c4f5-8a32c7f5d45c"
      },
      "outputs": [
        {
          "name": "stdout",
          "output_type": "stream",
          "text": [
            "Total marks of alice: 270\n",
            "Total marks of bob: 237\n",
            "Total marks of carol: 271\n",
            "Total marks of dravid: 195\n"
          ]
        }
      ],
      "source": [
        "student = [[\"alice\",85,90,95],[\"bob\",75,80,82],[\"carol\",92,88,91],[\"dravid\",60,65,70]]\n",
        "for student in student:\n",
        "  name = student[0]\n",
        "  marks = student[1:]\n",
        "  total = sum(marks)\n",
        "  print(f\"Total marks of {name}: {total}\")"
      ]
    },
    {
      "cell_type": "code",
      "execution_count": null,
      "metadata": {
        "colab": {
          "base_uri": "https://localhost:8080/"
        },
        "id": "K1dN8OYeF2dh",
        "outputId": "c5e6d1ac-0dc3-40ec-b41f-78c58b1cd1b2"
      },
      "outputs": [
        {
          "name": "stdout",
          "output_type": "stream",
          "text": [
            "stduent with highest markalice:270\n"
          ]
        }
      ],
      "source": [
        "student = [[\"alice\",85,90,95],[\"bob\",75,80,82],[\"carol\",92,88,91],[\"dravid\",60,65,70]]\n",
        "for student in student:\n",
        "  name=student[0]\n",
        "  marks=student[1:]\n",
        "  total=sum(marks)\n",
        "  average=total/len(marks)\n",
        "  highest_average=0\n",
        "  if(average<highest_average):\n",
        "    highest_average=average\n",
        "  else:\n",
        "    break\n",
        "    student_highest_average=name\n",
        "print(f\"stduent with highest mark{name}:{total}\")"
      ]
    },
    {
      "cell_type": "code",
      "execution_count": null,
      "metadata": {
        "colab": {
          "base_uri": "https://localhost:8080/"
        },
        "id": "JHt5NNtHNadw",
        "outputId": "3b3e4939-c1c8-4dbc-8bb1-0a8cbe64af7e"
      },
      "outputs": [
        {
          "name": "stdout",
          "output_type": "stream",
          "text": [
            "Total marks of alice: 270\n",
            "Total marks of carol: 271\n"
          ]
        }
      ],
      "source": [
        "student = [[\"alice\",85,90,95],[\"bob\",75,80,82],[\"carol\",92,88,91],[\"dravid\",60,65,70]]\n",
        "for student in student:\n",
        "  name = student[0]\n",
        "  marks = student[1:]\n",
        "  total = sum(marks)\n",
        "  if(total>250):\n",
        "    print(f\"Total marks of {name}: {total}\")"
      ]
    },
    {
      "cell_type": "code",
      "execution_count": null,
      "metadata": {
        "colab": {
          "base_uri": "https://localhost:8080/"
        },
        "id": "YKEf_DBYIR3k",
        "outputId": "e62c7009-3cc7-4045-961c-c2f49650ff07"
      },
      "outputs": [
        {
          "name": "stdout",
          "output_type": "stream",
          "text": [
            "[['alice', 85, 90, 95], ['bob', 75, 80, 82], ['carol', 92, 88, 91], ['dravid', 60, 65, 70], ['jack', 90, 55, 70]]\n"
          ]
        }
      ],
      "source": [
        "student=[[\"alice\",85,90,95],[\"bob\",75,80,82],[\"carol\",92,88,91],[\"dravid\",60,65,70]]\n",
        "student2=[\"jack\",90,55,70]\n",
        "append=student.append(student2)\n",
        "print(student)\n",
        "\n"
      ]
    },
    {
      "cell_type": "code",
      "execution_count": null,
      "metadata": {
        "colab": {
          "base_uri": "https://localhost:8080/"
        },
        "id": "YKnyWVDIOKIL",
        "outputId": "afc93827-610d-4e9a-b11b-2c91e6f84e06"
      },
      "outputs": [
        {
          "name": "stdout",
          "output_type": "stream",
          "text": [
            "Unique hobbies:\n",
            "cycling\n",
            "football\n",
            "drawing\n",
            "swimming\n",
            "reading\n",
            "gaming\n"
          ]
        }
      ],
      "source": [
        "hobby_data=[[\"alice\",\"reading\",\"cycling\"],[\"bob\",\"drawing\",\"football\"],[\"carol\",\"reading\",\"swimming\"],[\"david\",\"cycling\",\"gaming\"]]\n",
        "unique_hobbies = set()\n",
        "for person in hobby_data:\n",
        "    hobbies = person[1:]\n",
        "    unique_hobbies.update(hobbies)\n",
        "print(\"Unique hobbies:\")\n",
        "for hobby in unique_hobbies:\n",
        "    print(hobby)\n",
        "\n",
        "\n"
      ]
    },
    {
      "cell_type": "code",
      "source": [
        "hobby_data=[[\"alice\",\"reading\",\"cycling\"],[\"bob\",\"drawing\",\"football\"],[\"carol\",\"reading\",\"swimming\"],[\"david\",\"cycling\",\"gaming\"]]\n",
        "a=[]\n",
        "for i in hobby_data:\n",
        "     name=i[0]\n",
        "     hobby=i[1:]\n",
        "     if \"reading\" in hobby:\n",
        "        a.append(name)\n",
        "print(len(a))"
      ],
      "metadata": {
        "colab": {
          "base_uri": "https://localhost:8080/"
        },
        "id": "CLE2qRbtq5tb",
        "outputId": "21b0eba7-58c2-4092-fac0-9b53ec11e65b"
      },
      "execution_count": null,
      "outputs": [
        {
          "output_type": "stream",
          "name": "stdout",
          "text": [
            "2\n"
          ]
        }
      ]
    },
    {
      "cell_type": "code",
      "source": [
        "hobby_data=[[\"alice\",\"reading\",\"cycling\"],[\"bob\",\"drawing\",\"football\"],[\"carol\",\"reading\",\"swimming\"],[\"david\",\"cycling\",\"gaming\"]]\n",
        "for i in hobby_data:\n",
        "   name=i[0]\n",
        "   hobby=i[1:]\n",
        "   for j in i:\n",
        "       if (j==\"reading\") or (j==\"cycling\"):\n",
        "          print(name)\n"
      ],
      "metadata": {
        "colab": {
          "base_uri": "https://localhost:8080/"
        },
        "id": "c30Ceo1Rrsdy",
        "outputId": "7907d10f-5426-4ded-9631-3f39dd71383d"
      },
      "execution_count": null,
      "outputs": [
        {
          "output_type": "stream",
          "name": "stdout",
          "text": [
            "alice\n",
            "alice\n",
            "carol\n",
            "david\n"
          ]
        }
      ]
    },
    {
      "cell_type": "code",
      "source": [
        "hobby_data=[[\"alice\",\"reading\",\"cycling\"],[\"bob\",\"drawing\",\"football\"],[\"carol\",\"reading\",\"swimming\"],[\"david\",\"cycling\",\"gaming\"]]\n",
        "dict_hobby_data={}\n",
        "for i in hobby_data:\n",
        "   name=i[0]\n",
        "   hobby=i[1:]\n",
        "   dict_hobby_data[name]=hobby\n",
        "print(dict_hobby_data)"
      ],
      "metadata": {
        "colab": {
          "base_uri": "https://localhost:8080/"
        },
        "id": "2Nf0ze_NsDHb",
        "outputId": "cb1d86bd-7252-4456-862f-2ddb61b26a84"
      },
      "execution_count": null,
      "outputs": [
        {
          "output_type": "stream",
          "name": "stdout",
          "text": [
            "{'alice': ['reading', 'cycling'], 'bob': ['drawing', 'football'], 'carol': ['reading', 'swimming'], 'david': ['cycling', 'gaming']}\n"
          ]
        }
      ]
    },
    {
      "cell_type": "code",
      "execution_count": null,
      "metadata": {
        "colab": {
          "base_uri": "https://localhost:8080/"
        },
        "id": "mAblFU2KUghA",
        "outputId": "5082e361-f300-4ddf-ec62-1d9ab0ab2956"
      },
      "outputs": [
        {
          "name": "stdout",
          "output_type": "stream",
          "text": [
            "total sales of rice:375\n",
            "total sales of wheat:285\n",
            "total sales of oil:255\n",
            "total sales of sugar:330\n"
          ]
        }
      ],
      "source": [
        "_s=[[\"rice\",120,130,125],[\"wheat\",100,90,95],[\"oil\",80,85,90],[\"sugar\",110,115,105]]\n",
        "for i in s:\n",
        " product_name=i[0]\n",
        " sales=i[1:]\n",
        " total=sum(sales)\n",
        " print(f\"total sales of {product_name}:{total}\")\n",
        "\n",
        "\n",
        "\n"
      ]
    },
    {
      "cell_type": "code",
      "execution_count": null,
      "metadata": {
        "colab": {
          "base_uri": "https://localhost:8080/"
        },
        "id": "4cmoLwUXpOp8",
        "outputId": "2168ad62-ecbe-447f-d2d0-3d59aed1e8c9"
      },
      "outputs": [
        {
          "name": "stdout",
          "output_type": "stream",
          "text": [
            "Product with highest sales in March: rice (125 units)\n"
          ]
        }
      ],
      "source": [
        "sales= [[\"rice\", 120, 130, 125], [\"wheat\", 100, 90, 95],[\"oil\", 80, 85, 90],[\"sugar\", 110, 115, 105]]\n",
        "max_sales = 0\n",
        "product_name = \"\"\n",
        "for item in s:\n",
        "    march_sales = item[3]\n",
        "    if march_sales > max_sales:\n",
        "        max_sales = march_sales\n",
        "        product_name = item[0]\n",
        "print(f\"Product with highest sales in March: {product_name} ({max_sales} units)\")\n"
      ]
    },
    {
      "cell_type": "code",
      "execution_count": null,
      "metadata": {
        "colab": {
          "base_uri": "https://localhost:8080/"
        },
        "id": "RvHSd9zGpjsP",
        "outputId": "2359a608-a4f6-4661-d553-a2ab257b51cb"
      },
      "outputs": [
        {
          "output_type": "stream",
          "name": "stdout",
          "text": [
            "total jan sales;110\n",
            "total feb sales;115\n",
            "total mar sales;105\n"
          ]
        }
      ],
      "source": [
        "sales= [[\"rice\", 120, 130, 125], [\"wheat\", 100, 90, 95],[\"oil\", 80, 85, 90],[\"sugar\", 110, 115, 105]]\n",
        "jan_total=0\n",
        "feb_total=0\n",
        "mar_total=0\n",
        "for item in sales:\n",
        "  jan_total=item[1]\n",
        "  feb_total=item[2]\n",
        "  mar_total=item[3]\n",
        "print(f\"total jan sales;{jan_total}\")\n",
        "print(f\"total feb sales;{feb_total}\")\n",
        "print(f\"total mar sales;{mar_total}\")\n"
      ]
    },
    {
      "cell_type": "code",
      "execution_count": null,
      "metadata": {
        "colab": {
          "base_uri": "https://localhost:8080/"
        },
        "id": "66nfXGNssmaN",
        "outputId": "cafc4fb3-c49a-4ae3-f6d0-3add4a74deb4"
      },
      "outputs": [
        {
          "name": "stdout",
          "output_type": "stream",
          "text": [
            "{'rice': [120, 130, 125], 'wheat': [100, 90, 95], 'oil': [80, 85, 90], 'sugar': [110, 115, 105]}\n"
          ]
        }
      ],
      "source": [
        "sales= [[\"rice\", 120, 130, 125], [\"wheat\", 100, 90, 95],[\"oil\", 80, 85, 90],[\"sugar\", 110, 115, 105]]\n",
        "sales_dict={}\n",
        "for item in sales:\n",
        "  product_name=item[0]\n",
        "  monthly_sales=item[1:]\n",
        "  sales_dict[product_name]=monthly_sales\n",
        "print(sales_dict)\n"
      ]
    },
    {
      "cell_type": "code",
      "execution_count": null,
      "metadata": {
        "colab": {
          "base_uri": "https://localhost:8080/"
        },
        "id": "tXEuZ358gvkG",
        "outputId": "2ca8df40-341b-46db-fafd-72afc5a531a4"
      },
      "outputs": [
        {
          "name": "stdout",
          "output_type": "stream",
          "text": [
            "fiction book: 1984-genre:fiction\n",
            "fiction book: the aichemist-genre:fiction\n"
          ]
        }
      ],
      "source": [
        "books=[[\"wings of fire\",\"A.P.J.abdul kalam\",\"biography\"],[\"1984\",\"georgeorwell\",\"fiction\"],[\"the aichemist\",\"paulao coelha\",\"fiction\"],[\"zero to one\",\"peter thiel\",\"business\"]]\n",
        "for i in books:\n",
        " book_title=i[0]\n",
        " author_name=i[1]\n",
        " genre=i[2]\n",
        " if genre==\"fiction\":\n",
        "  print(f\"fiction book: {book_title}-genre:{genre}\")\n"
      ]
    },
    {
      "cell_type": "code",
      "execution_count": null,
      "metadata": {
        "colab": {
          "base_uri": "https://localhost:8080/"
        },
        "id": "UIpTBbTrmrCs",
        "outputId": "052c23d6-a8e1-44b0-f558-8cadedd431b4"
      },
      "outputs": [
        {
          "name": "stdout",
          "output_type": "stream",
          "text": [
            "unique author: ['A.P.J.abdul kalam', 'georgeorwell', 'paulao coelha', 'peter thiel']\n"
          ]
        }
      ],
      "source": [
        "books=[[\"wings of fire\",\"A.P.J.abdul kalam\",\"biography\"],[\"1984\",\"georgeorwell\",\"fiction\"],[\"the aichemist\",\"paulao coelha\",\"fiction\"],[\"zero to one\",\"peter thiel\",\"business\"]]\n",
        "unique_authors=[]\n",
        "for book in books:\n",
        "  author=book[1]\n",
        "  if author not in unique_authors:\n",
        "    unique_authors.append(author)\n",
        "print(f\"unique author:\",unique_authors)\n"
      ]
    },
    {
      "cell_type": "code",
      "execution_count": null,
      "metadata": {
        "colab": {
          "base_uri": "https://localhost:8080/"
        },
        "id": "zwrn8vsypeEL",
        "outputId": "74aff0cf-a5f9-4ee3-dfc6-9b14b021633e"
      },
      "outputs": [
        {
          "name": "stdout",
          "output_type": "stream",
          "text": [
            "book per genre:\n",
            "biography:1\n",
            "book per genre:\n",
            "biography:1\n",
            "fiction:1\n",
            "book per genre:\n",
            "biography:1\n",
            "fiction:2\n",
            "business:1\n"
          ]
        }
      ],
      "source": [
        "books=[[\"wings of fire\",\"A.P.J.abdul kalam\",\"biography\"],[\"1984\",\"georgeorwell\",\"fiction\"],[\"the aichemist\",\"paulao coelha\",\"fiction\"],[\"zero to one\",\"peter thiel\",\"business\"]]\n",
        "genre_count={}\n",
        "for book in books:\n",
        "  genre=book[2]\n",
        "  if genre in genre_count:\n",
        "    genre_count[genre]+=1\n",
        "  else:\n",
        "    genre_count[genre]=1\n",
        "    print(\"book per genre:\")\n",
        "    for genre,count in genre_count.items():\n",
        "      print(f\"{genre}:{count}\")\n"
      ]
    },
    {
      "cell_type": "code",
      "execution_count": null,
      "metadata": {
        "colab": {
          "base_uri": "https://localhost:8080/"
        },
        "id": "VbN3fcZzyVmT",
        "outputId": "ccce6adf-7be7-4486-a92b-1d6ab928e1e4"
      },
      "outputs": [
        {
          "name": "stdout",
          "output_type": "stream",
          "text": [
            "{'wings of fire': ['A.P.J.abdul kalam', 'biography'], '1984': ['georgeorwell', 'fiction'], 'the aichemist': ['paulao coelha', 'fiction'], 'zero to one': ['peter thiel', 'business']}\n"
          ]
        }
      ],
      "source": [
        "books=[[\"wings of fire\",\"A.P.J.abdul kalam\",\"biography\"],[\"1984\",\"georgeorwell\",\"fiction\"],[\"the aichemist\",\"paulao coelha\",\"fiction\"],[\"zero to one\",\"peter thiel\",\"business\"]]\n",
        "books_dict={}\n",
        "for i in books:\n",
        "   book_title=i[0]\n",
        "   author_name=i[1:]\n",
        "   books_dict[book_title]=author_name\n",
        "print(books_dict)\n"
      ]
    },
    {
      "cell_type": "code",
      "execution_count": null,
      "metadata": {
        "colab": {
          "base_uri": "https://localhost:8080/"
        },
        "id": "r5wJc41T2tyK",
        "outputId": "8994c36b-efdf-4d67-be73-39b6a0f601e3"
      },
      "outputs": [
        {
          "name": "stdout",
          "output_type": "stream",
          "text": [
            "arun\n",
            "divya\n",
            "meena\n"
          ]
        }
      ],
      "source": [
        "employess=[[\"arun\",\"python\",\"SQL\",\"excel\"],\n",
        "[\"divya\",\"tableu\",\"python\",\"powerBI\"],\n",
        "[\"rahul\",\"excel\",\"communciation\",\"SQL\"],\n",
        "[\"meena\",\"python\",\"ML\",\"DL\"]]\n",
        "for i in employess:\n",
        "  employess_name=i[0]\n",
        "  skills=i[1:]\n",
        "  if \"python\" in skills:\n",
        "   print(f\"{employess_name}\")\n",
        "\n"
      ]
    },
    {
      "cell_type": "code",
      "execution_count": null,
      "metadata": {
        "colab": {
          "base_uri": "https://localhost:8080/"
        },
        "id": "G-an2bc43e4c",
        "outputId": "8be81c5a-a092-4801-f99c-b01d5064b9ed"
      },
      "outputs": [
        {
          "name": "stdout",
          "output_type": "stream",
          "text": [
            "Skill Frequencies:\n",
            "python: 3\n",
            "SQL: 2\n",
            "excel: 2\n",
            "tableu: 1\n",
            "powerBI: 1\n",
            "communciation: 1\n",
            "ML: 1\n",
            "DL: 1\n"
          ]
        }
      ],
      "source": [
        "employees=[[\"arun\",\"python\",\"SQL\",\"excel\"],\n",
        "[\"divya\",\"tableu\",\"python\",\"powerBI\"],\n",
        "[\"rahul\",\"excel\",\"communciation\",\"SQL\"],\n",
        "[\"meena\",\"python\",\"ML\",\"DL\"]]\n",
        "skill_count = {}\n",
        "for i in employees:\n",
        "    skills = i[1:]\n",
        "    for skill in skills:\n",
        "        if skill in skill_count:\n",
        "            skill_count[skill] += 1\n",
        "        else:\n",
        "            skill_count[skill] = 1\n",
        "print(\"Skill Frequencies:\")\n",
        "for skill, count in skill_count.items():\n",
        "    print(f\"{skill}: {count}\")\n",
        "\n",
        "\n",
        "\n",
        "\n",
        "\n",
        "\n"
      ]
    },
    {
      "cell_type": "code",
      "execution_count": null,
      "metadata": {
        "id": "8whQQwkrqlls",
        "colab": {
          "base_uri": "https://localhost:8080/"
        },
        "outputId": "0f90744f-3499-433a-d9dd-67134f6b25f9"
      },
      "outputs": [
        {
          "output_type": "stream",
          "name": "stdout",
          "text": [
            "[['python', ['arun', 'divya', 'meena']], ['sql', ['arun', 'rahul']], ['excel', ['arun', 'rahul']], ['tableau', ['divya']], ['power bi', ['divya']], ['communication', ['rahul']], ['ml', ['meena']], ['dl', ['meena']]]\n"
          ]
        }
      ],
      "source": [
        "employees=[[\"arun\",\"python\",\"SQL\",\"excel\"],\n",
        "[\"divya\",\"tableu\",\"python\",\"powerBI\"],\n",
        "[\"rahul\",\"excel\",\"communciation\",\"SQL\"],\n",
        "[\"meena\",\"python\",\"ML\",\"DL\"]]\n",
        "emp=[[\"arun\",\"python\",\"sql\",\"excel\"],[\"divya\",\"tableau\",\"python\",\"power bi\"],[\"rahul\",\"excel\",\"communication\",\"sql\"],[\"meena\",\"python\",\"ml\",\"dl\"]]\n",
        "s_i=[]\n",
        "for i in range(4):\n",
        "  n = emp[i][0]\n",
        "  for j in range(1,4):\n",
        "    s=emp[i][j]\n",
        "    found=0\n",
        "    for k in range(len(s_i)):\n",
        "      if s_i[k][0]== s:\n",
        "        s_i[k][1].append(n)\n",
        "        found=1\n",
        "    if found == 0:\n",
        "      s_i.append([s , [n]])\n",
        "print(s_i)"
      ]
    },
    {
      "cell_type": "code",
      "execution_count": null,
      "metadata": {
        "id": "LIHdaCNMvWZN",
        "colab": {
          "base_uri": "https://localhost:8080/"
        },
        "outputId": "52e2402f-b58d-413d-cb34-68d7f811049a"
      },
      "outputs": [
        {
          "output_type": "stream",
          "name": "stdout",
          "text": [
            "arun\n"
          ]
        }
      ],
      "source": [
        "employees=[[\"arun\",\"python\",\"SQL\",\"excel\"],\n",
        "[\"divya\",\"tableu\",\"python\",\"powerBI\"],\n",
        "[\"rahul\",\"excel\",\"communciation\",\"SQL\"],\n",
        "[\"meena\",\"python\",\"ML\",\"DL\"]]\n",
        "emp=[[\"arun\",\"python\",\"sql\",\"excel\"],[\"divya\",\"tableau\",\"python\",\"power bi\"],[\"rahul\",\"excel\",\"communication\",\"sql\"],[\"meena\",\"python\",\"ml\",\"dl\"]]\n",
        "for i in emp:\n",
        "  name=i[0]\n",
        "  skills=i[1:]\n",
        "  if ('python' in skills) and ('sql' in skills):\n",
        "    if('excel' in skills):\n",
        "      print(name)"
      ]
    },
    {
      "cell_type": "code",
      "execution_count": null,
      "metadata": {
        "colab": {
          "base_uri": "https://localhost:8080/"
        },
        "id": "Z4GikOSqwlIX",
        "outputId": "a69337d9-8019-4135-8ccc-a1d8353a0c0f"
      },
      "outputs": [
        {
          "name": "stdout",
          "output_type": "stream",
          "text": [
            "Number of booked plots: 2\n"
          ]
        }
      ],
      "source": [
        "plots=[[\"P101\",\"arun\",1200,\"booked\"],[\"p102\",\"divya\",1500,\"available\"],[\"p103\",\"meena\",\"1000\",\"booked\"],[\"p103\",\"none\",1300,\"available\"]]\n",
        "for i in plots:\n",
        "  plot_id=i[0]\n",
        "  booked_count = 0\n",
        "for plot in plots:\n",
        "    if plot[3].lower() == \"booked\":\n",
        "        booked_count+= 1\n",
        "print(\"Number of booked plots:\", booked_count)\n",
        "\n",
        "\n",
        "\n"
      ]
    },
    {
      "cell_type": "code",
      "execution_count": null,
      "metadata": {
        "colab": {
          "base_uri": "https://localhost:8080/"
        },
        "id": "NZM__MniQyOI",
        "outputId": "15187b55-c1c8-4021-dbac-470883637be5"
      },
      "outputs": [
        {
          "name": "stdout",
          "output_type": "stream",
          "text": [
            "Number of available plots: 2\n"
          ]
        }
      ],
      "source": [
        "plots = [[\"P101\", \"arun\", 1200, \"booked\"], [\"p102\", \"divya\", 1500, \"available\"], [\"p103\", \"meena\", \"1000\", \"booked\"], [\"p103\", \"none\", 1300, \"available\"]]\n",
        "available_count = 0\n",
        "for plot in plots:\n",
        "    if plot[3].lower() == \"available\":\n",
        "        available_count += 1\n",
        "print(\"Number of available plots:\", available_count)\n"
      ]
    },
    {
      "cell_type": "code",
      "execution_count": null,
      "metadata": {
        "colab": {
          "base_uri": "https://localhost:8080/"
        },
        "id": "licbH1yzWj1p",
        "outputId": "20a5e651-162a-402a-e220-0d39718220ee"
      },
      "outputs": [
        {
          "output_type": "stream",
          "name": "stdout",
          "text": [
            "arun P101\n",
            "meena p103\n"
          ]
        }
      ],
      "source": [
        "plots = [[\"P101\", \"arun\", 1200, \"booked\"], [\"p102\", \"divya\", 1500, \"available\"], [\"p103\", \"meena\", \"1000\", \"booked\"], [\"p103\", \"none\", 1300, \"available\"]]\n",
        "for i in plots:\n",
        "    plot_id = i[0]\n",
        "    customer_name = i[1]\n",
        "    booking_status = i[3]\n",
        "    if booking_status.lower() == \"booked\":\n",
        "        print(customer_name,plot_id)"
      ]
    },
    {
      "cell_type": "code",
      "execution_count": null,
      "metadata": {
        "colab": {
          "background_save": true
        },
        "id": "kOEFnNpAZIjN",
        "outputId": "476d203e-0f46-473e-b435-bde29c896594"
      },
      "outputs": [
        {
          "name": "stdout",
          "output_type": "stream",
          "text": [
            "arun\n",
            "meena\n",
            "kumar\n"
          ]
        }
      ],
      "source": [
        "plots = [[\"P101\", \"arun\", 1200, \"booked\"],  [\"p102\", \"divya\", 1500, \"available\"],  [\"p103\", \"meena\", \"1000\", \"booked\"],  [\"p103\", \"none\", 1300, \"available\"]]\n",
        "new_booking = [\"P104\", \"kumar\", 1400, \"booked\"]\n",
        "plots.append(new_booking)\n",
        "for i in plots:\n",
        "    plot_id = i[0]\n",
        "    customer_name = i[1]\n",
        "    booking_status = i[3]\n",
        "    if booking_status.lower() == \"booked\":\n",
        "        print(customer_name)\n"
      ]
    },
    {
      "cell_type": "code",
      "source": [
        "plots = [[\"P101\", \"arun\", 1200, \"booked\"],  [\"p102\", \"divya\", 1500, \"available\"],  [\"p103\", \"meena\", \"1000\", \"booked\"],  [\"p103\", \"none\", 1300, \"available\"]]\n",
        "plots.append([\"p104\",\"jack\",1400,\"booked\"])\n",
        "print(plots)"
      ],
      "metadata": {
        "colab": {
          "base_uri": "https://localhost:8080/"
        },
        "id": "Ym8turL8IxGa",
        "outputId": "d2f1055a-e4ca-4ce2-a720-d59b7a804183"
      },
      "execution_count": null,
      "outputs": [
        {
          "output_type": "stream",
          "name": "stdout",
          "text": [
            "[['P101', 'arun', 1200, 'booked'], ['p102', 'divya', 1500, 'available'], ['p103', 'meena', '1000', 'booked'], ['p103', 'none', 1300, 'available'], ['p104', 'jack', 1400, 'booked']]\n"
          ]
        }
      ]
    },
    {
      "cell_type": "code",
      "source": [
        "payments=[[\"arun\",600000,300000,300000],[\"divya\",750000,750000,0],[\"meena\",500000,100000,400000],[\"kumar\",900000,600000,300000]]\n",
        "for i in payments:\n",
        "  customer_name=i[0]\n",
        "  due_amount=i[3]\n",
        "  print(f\"customer {customer_name} : {due_amount}\")"
      ],
      "metadata": {
        "colab": {
          "base_uri": "https://localhost:8080/"
        },
        "id": "Dzm0J6yUJihE",
        "outputId": "2a8795b1-b69e-46b6-b4d9-3d60bc0d9806"
      },
      "execution_count": null,
      "outputs": [
        {
          "output_type": "stream",
          "name": "stdout",
          "text": [
            "customer arun : 300000\n",
            "customer divya : 0\n",
            "customer meena : 400000\n",
            "customer kumar : 300000\n"
          ]
        }
      ]
    },
    {
      "cell_type": "code",
      "source": [
        "payments=[[\"arun\",600000,300000,300000],[\"divya\",750000,750000,0],[\"meena\",500000,100000,400000],[\"kumar\",900000,600000,300000]]\n",
        "def p(x):\n",
        "  tot=x[1]\n",
        "  paid=x[2]\n",
        "  percent=(paid/tot)*100\n",
        "  return (percent)\n",
        "pymnt=[[\"arun\",6000000,3000000,3000000],[\"divya\",750000,750000,0],[\"meena\",5000000,1000000,4000000],[\"kumar\",9000000,6000000,3000000]]\n",
        "for i in pymnt:\n",
        "  name=i[0]\n",
        "  percent= p(i)\n",
        "  print(f\"{name} has paid {percent: .2f}% of total amount\")"
      ],
      "metadata": {
        "colab": {
          "base_uri": "https://localhost:8080/"
        },
        "id": "SHvB6fWK58ll",
        "outputId": "364eb721-590e-4594-f464-e1f54b9e94e9"
      },
      "execution_count": null,
      "outputs": [
        {
          "output_type": "stream",
          "name": "stdout",
          "text": [
            "arun has paid  50.00% of total amount\n",
            "divya has paid  100.00% of total amount\n",
            "meena has paid  20.00% of total amount\n",
            "kumar has paid  66.67% of total amount\n"
          ]
        }
      ]
    },
    {
      "cell_type": "code",
      "source": [
        "payments=[[\"arun\",600000,300000,300000],[\"divya\",750000,750000,0],[\"meena\",500000,100000,400000],[\"kumar\",900000,600000,300000]]\n",
        "fully_paid=[]\n",
        "for i in payments:\n",
        "   if i[1]==i[2]+i[3]:\n",
        "      fully_paid.append(i[0])\n",
        "print(f\"fully paid customers:\",fully_paid)"
      ],
      "metadata": {
        "colab": {
          "base_uri": "https://localhost:8080/"
        },
        "id": "bzs7XUKcVjoQ",
        "outputId": "682ff4d3-865f-419b-e441-99c63317ca06"
      },
      "execution_count": null,
      "outputs": [
        {
          "output_type": "stream",
          "name": "stdout",
          "text": [
            "fully paid customers: ['arun', 'divya', 'meena', 'kumar']\n"
          ]
        }
      ]
    },
    {
      "cell_type": "code",
      "source": [
        "payments=[[\"arun\",600000,300000,300000],[\"divya\",750000,750000,0],[\"meena\",500000,100000,400000],[\"kumar\",900000,600000,300000]]\n",
        "payments=[[\"arun\",6000000,3000000,3000000],[\"divya\",750000,750000,0],[\"meena\",5000000,1000000,4000000],[\"kumar\",9000000,6000000,3000000]]\n",
        "for i in payments:\n",
        "  name=i[0]\n",
        "  due=i[3]\n",
        "  if (due==0):\n",
        "      print(name)"
      ],
      "metadata": {
        "colab": {
          "base_uri": "https://localhost:8080/"
        },
        "id": "xQvtScDMA_dc",
        "outputId": "4cec4a07-c648-47d5-b837-b465c83bf21e"
      },
      "execution_count": null,
      "outputs": [
        {
          "output_type": "stream",
          "name": "stdout",
          "text": [
            "divya\n"
          ]
        }
      ]
    },
    {
      "cell_type": "code",
      "source": [
        "plot_info=[[\"p101\",\"Northlayout\",\"East\"],[\"p102\",\"Northlayout\",\"West\"],[\"p103\",\"Southlayout\",\"north\"],[\"p104\",\"Southlayout\",\"East\"]]\n",
        "for i in plot_info:\n",
        "    plot_id=i[0]\n",
        "    location=i[1]\n",
        "    if location==\"Northlayout\":\n",
        "      print(f\"plots in Northlayout:{plot_id}\")\n",
        "\n"
      ],
      "metadata": {
        "colab": {
          "base_uri": "https://localhost:8080/"
        },
        "id": "rUaQ3b2hWYcE",
        "outputId": "d58cece1-d12b-4eea-d84d-ea7bedd5c8d0"
      },
      "execution_count": null,
      "outputs": [
        {
          "output_type": "stream",
          "name": "stdout",
          "text": [
            "plots in Northlayout:p101\n",
            "plots in Northlayout:p102\n"
          ]
        }
      ]
    },
    {
      "cell_type": "code",
      "source": [
        "plot_info=[[\"p101\",\"Northlayout\",\"East\"],[\"p102\",\"Northlayout\",\"West\"],[\"p103\",\"Southlayout\",\"north\"],[\"p104\",\"Southlayout\",\"East\"]]\n",
        "a=[]\n",
        "for i in plot_info:\n",
        "   id=i[0]\n",
        "   dir=i[2]\n",
        "   if (dir==\"East\"):\n",
        "      a.append(id)\n",
        "print(len(a))"
      ],
      "metadata": {
        "id": "FtSG_25Sb_8n",
        "colab": {
          "base_uri": "https://localhost:8080/"
        },
        "outputId": "1b48d41f-27bb-46e0-91ac-25445b658c72"
      },
      "execution_count": null,
      "outputs": [
        {
          "output_type": "stream",
          "name": "stdout",
          "text": [
            "2\n"
          ]
        }
      ]
    },
    {
      "cell_type": "code",
      "source": [
        "plot_info=[[\"p101\",\"Northlayout\",\"East\"],[\"p102\",\"Northlayout\",\"West\"],[\"p103\",\"Southlayout\",\"north\"],[\"p104\",\"Southlayout\",\"East\"]]\n",
        "for i in plot_info:\n",
        "   id=i[0]\n",
        "   dir=i[2]\n",
        "   loc=i[1]\n",
        "   p_id=input(\"enter the id: \")\n",
        "   if(p_id==id):\n",
        "      print(id,loc,dir)"
      ],
      "metadata": {
        "colab": {
          "base_uri": "https://localhost:8080/"
        },
        "id": "2hHEwx2Ws-9f",
        "outputId": "d830e9d6-daa8-4ae1-9b57-15bec5ea30aa"
      },
      "execution_count": null,
      "outputs": [
        {
          "output_type": "stream",
          "name": "stdout",
          "text": [
            "enter the id: p101\n",
            "p101 Northlayout East\n",
            "enter the id: p102\n",
            "p102 Northlayout West\n",
            "enter the id: p103\n",
            "p103 Southlayout north\n",
            "enter the id: p104\n",
            "p104 Southlayout East\n"
          ]
        }
      ]
    },
    {
      "cell_type": "code",
      "source": [
        "p_info=[[\"p101\",\"north layout\",\"east\"],[\"p102\",\"north layout\",\"west\"],[\"p103\",\"south layout\",\"north\"],[\"p104\",\"east layout\",\"east\"]]\n",
        "ll={}\n",
        "for i in p_info:\n",
        "  id=i[0]\n",
        "  l=i[1]\n",
        "  if l not in ll:\n",
        "    ll[l]= []\n",
        "  ll[l].append(id)\n",
        "for l,i in ll.items():\n",
        "  print(f\"{l}: {i}\")"
      ],
      "metadata": {
        "id": "4SZAv_GZuN0u",
        "colab": {
          "base_uri": "https://localhost:8080/"
        },
        "outputId": "1a6543fa-d789-448d-f8be-352db753b59b"
      },
      "execution_count": null,
      "outputs": [
        {
          "output_type": "stream",
          "name": "stdout",
          "text": [
            "north layout: ['p101', 'p102']\n",
            "south layout: ['p103']\n",
            "east layout: ['p104']\n"
          ]
        }
      ]
    }
  ],
  "metadata": {
    "colab": {
      "provenance": [],
      "authorship_tag": "ABX9TyNAq24TtRnv1zL3FWSKG/Ru",
      "include_colab_link": true
    },
    "kernelspec": {
      "display_name": "Python 3",
      "name": "python3"
    },
    "language_info": {
      "name": "python"
    }
  },
  "nbformat": 4,
  "nbformat_minor": 0
}